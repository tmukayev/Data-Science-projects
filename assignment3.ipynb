{
  "nbformat": 4,
  "nbformat_minor": 0,
  "metadata": {
    "colab": {
      "provenance": [],
      "mount_file_id": "1OuZYetqeQKA56upS8q5kyZnU-4XjhQcV",
      "authorship_tag": "ABX9TyNUDUIxevf7DHwy+/xndes8",
      "include_colab_link": true
    },
    "kernelspec": {
      "name": "python3",
      "display_name": "Python 3"
    },
    "language_info": {
      "name": "python"
    }
  },
  "cells": [
    {
      "cell_type": "markdown",
      "metadata": {
        "id": "view-in-github",
        "colab_type": "text"
      },
      "source": [
        "<a href=\"https://colab.research.google.com/github/tmukayev/Data-Science-projects/blob/main/assignment3.ipynb\" target=\"_parent\"><img src=\"https://colab.research.google.com/assets/colab-badge.svg\" alt=\"Open In Colab\"/></a>"
      ]
    },
    {
      "cell_type": "code",
      "execution_count": 515,
      "metadata": {
        "id": "3aptbRFJqaf5"
      },
      "outputs": [],
      "source": [
        "import numpy as np\n",
        "import pandas as pd\n",
        "import matplotlib.pyplot as plt\n",
        "from scipy.stats import multivariate_normal as mvn"
      ]
    },
    {
      "cell_type": "markdown",
      "source": [
        "## Model 1. KNN:\n",
        "\n",
        "\n",
        "1.   Load housing dataset \n",
        "2.   Feature engineer $/sqft column\n",
        "3.   KNN model to categorize price ranges: \n",
        "     inputs: latitude / longitude;\n",
        "     output: $/sqft category \n",
        "\n",
        "## Model 2. Linear Regressor:\n",
        "\n",
        "\n",
        "1.   Gets dataset feautures to output the predicted price (no taxes)\n",
        "2.   Final categorization of under-valued (Function?)\n",
        "\n",
        "\n"
      ],
      "metadata": {
        "id": "zQnrWwojql_W"
      }
    },
    {
      "cell_type": "code",
      "source": [
        "house_df = pd.read_csv('/content/house_data.csv')"
      ],
      "metadata": {
        "id": "3KYQ96WfqxIV"
      },
      "execution_count": 288,
      "outputs": []
    },
    {
      "cell_type": "code",
      "source": [
        "# house_df"
      ],
      "metadata": {
        "id": "87klua16qwtz"
      },
      "execution_count": 189,
      "outputs": []
    },
    {
      "cell_type": "code",
      "source": [
        "house_df.columns"
      ],
      "metadata": {
        "colab": {
          "base_uri": "https://localhost:8080/"
        },
        "id": "kADB-fbhrIe_",
        "outputId": "e8b64b17-a809-4d06-a56a-f42bb3867596"
      },
      "execution_count": 290,
      "outputs": [
        {
          "output_type": "execute_result",
          "data": {
            "text/plain": [
              "Index(['Unnamed: 0', 'MLS', 'sold_price', 'zipcode', 'longitude', 'latitude',\n",
              "       'lot_acres', 'taxes', 'year_built', 'bedrooms', 'bathrooms', 'sqrt_ft',\n",
              "       'garage', 'kitchen_features', 'fireplaces', 'floor_covering', 'HOA',\n",
              "       'cooking', 'storage', 'cleaning', 'countertop', 'water', 'tile',\n",
              "       'carpet', 'stone', 'other floor'],\n",
              "      dtype='object')"
            ]
          },
          "metadata": {},
          "execution_count": 290
        }
      ]
    },
    {
      "cell_type": "code",
      "source": [
        "house_df = house_df.drop(['Unnamed: 0', 'MLS', 'kitchen_features'], axis=1)"
      ],
      "metadata": {
        "id": "aooZACTGq1b8"
      },
      "execution_count": 291,
      "outputs": []
    },
    {
      "cell_type": "code",
      "source": [
        "# Add a new column \"price_per_sqft\"\n",
        "house_df['price_per_sqft'] = house_df['sold_price'] / house_df['sqrt_ft']"
      ],
      "metadata": {
        "id": "12cGxT9YrQoe"
      },
      "execution_count": 292,
      "outputs": []
    },
    {
      "cell_type": "code",
      "source": [
        "# house_df"
      ],
      "metadata": {
        "id": "hi7QdLr3s8V1"
      },
      "execution_count": 293,
      "outputs": []
    },
    {
      "cell_type": "code",
      "source": [
        "house_df.columns"
      ],
      "metadata": {
        "colab": {
          "base_uri": "https://localhost:8080/"
        },
        "id": "Qd5JKsrwtDv9",
        "outputId": "5377830f-6898-4fed-8fc8-52eb64223d00"
      },
      "execution_count": 294,
      "outputs": [
        {
          "output_type": "execute_result",
          "data": {
            "text/plain": [
              "Index(['sold_price', 'zipcode', 'longitude', 'latitude', 'lot_acres', 'taxes',\n",
              "       'year_built', 'bedrooms', 'bathrooms', 'sqrt_ft', 'garage',\n",
              "       'fireplaces', 'floor_covering', 'HOA', 'cooking', 'storage', 'cleaning',\n",
              "       'countertop', 'water', 'tile', 'carpet', 'stone', 'other floor',\n",
              "       'price_per_sqft'],\n",
              "      dtype='object')"
            ]
          },
          "metadata": {},
          "execution_count": 294
        }
      ]
    },
    {
      "cell_type": "code",
      "source": [
        "house_df['price_per_sqft'].describe()"
      ],
      "metadata": {
        "colab": {
          "base_uri": "https://localhost:8080/"
        },
        "id": "1jjVeBR3t1_r",
        "outputId": "1e5bb9a0-f0f0-4f65-9926-845d33abfdf4"
      },
      "execution_count": 295,
      "outputs": [
        {
          "output_type": "execute_result",
          "data": {
            "text/plain": [
              "count    5000.000000\n",
              "mean             inf\n",
              "std              NaN\n",
              "min        24.544805\n",
              "25%       175.904804\n",
              "50%       203.191206\n",
              "75%       235.648035\n",
              "max              inf\n",
              "Name: price_per_sqft, dtype: float64"
            ]
          },
          "metadata": {},
          "execution_count": 295
        }
      ]
    },
    {
      "cell_type": "code",
      "source": [
        "# house_df['price_per_sqft'].isna().sum()"
      ],
      "metadata": {
        "id": "VFarUGXd4lv3"
      },
      "execution_count": 296,
      "outputs": []
    },
    {
      "cell_type": "code",
      "source": [
        "# nans = house_df['price_per_sqft'].isna().sum()\n",
        "# print(\"Number of NaN values:\", nans)"
      ],
      "metadata": {
        "id": "-AKAjKg65FlX"
      },
      "execution_count": 297,
      "outputs": []
    },
    {
      "cell_type": "code",
      "source": [
        "# check for infinity values\n",
        "print(\"Number of Inf values:\", np.isinf(house_df['price_per_sqft']).sum())"
      ],
      "metadata": {
        "colab": {
          "base_uri": "https://localhost:8080/"
        },
        "id": "YlFXDggQ5LbA",
        "outputId": "3db112cf-82e2-46cd-dbf2-bdffb8a7301b"
      },
      "execution_count": 298,
      "outputs": [
        {
          "output_type": "stream",
          "name": "stdout",
          "text": [
            "Number of Inf values: 56\n"
          ]
        }
      ]
    },
    {
      "cell_type": "code",
      "source": [
        "house_df = house_df.replace([np.inf, -np.inf], np.nan)\n",
        "house_df = house_df.dropna(subset=['price_per_sqft'])"
      ],
      "metadata": {
        "id": "rEgtbqdQUmqK"
      },
      "execution_count": 299,
      "outputs": []
    },
    {
      "cell_type": "code",
      "source": [
        "house_df['price_per_sqft'].describe()"
      ],
      "metadata": {
        "colab": {
          "base_uri": "https://localhost:8080/"
        },
        "id": "DABK0fwnlBhB",
        "outputId": "3fd4f259-926c-439d-a23a-e089b3e47ee0"
      },
      "execution_count": 300,
      "outputs": [
        {
          "output_type": "execute_result",
          "data": {
            "text/plain": [
              "count    4944.000000\n",
              "mean      212.527212\n",
              "std        66.730393\n",
              "min        24.544805\n",
              "25%       175.502133\n",
              "50%       202.598297\n",
              "75%       234.103497\n",
              "max      1208.333333\n",
              "Name: price_per_sqft, dtype: float64"
            ]
          },
          "metadata": {},
          "execution_count": 300
        }
      ]
    },
    {
      "cell_type": "code",
      "source": [
        "house_df.shape"
      ],
      "metadata": {
        "colab": {
          "base_uri": "https://localhost:8080/"
        },
        "id": "fIF-xn7h5tSY",
        "outputId": "58bc4bea-2516-47de-9d25-cac765a9df89"
      },
      "execution_count": 301,
      "outputs": [
        {
          "output_type": "execute_result",
          "data": {
            "text/plain": [
              "(4944, 24)"
            ]
          },
          "metadata": {},
          "execution_count": 301
        }
      ]
    },
    {
      "cell_type": "code",
      "source": [
        "house_df.reset_index(drop=True, inplace=True)\n",
        "house_df"
      ],
      "metadata": {
        "colab": {
          "base_uri": "https://localhost:8080/",
          "height": 505
        },
        "id": "Zabj5uNNysTw",
        "outputId": "f1f9c4f8-eef5-4309-bc6f-6855601ea3e2"
      },
      "execution_count": 302,
      "outputs": [
        {
          "output_type": "execute_result",
          "data": {
            "text/plain": [
              "      sold_price  zipcode   longitude   latitude  lot_acres     taxes  \\\n",
              "0      5300000.0    85637 -110.378200  31.356362    2154.00   5272.00   \n",
              "1      4200000.0    85646 -111.045371  31.594213    1707.00  10422.36   \n",
              "2      4500000.0    85646 -111.035925  31.645878     636.67   8418.58   \n",
              "3      3411450.0    85750 -110.813768  32.285162       3.21  15393.00   \n",
              "4      3250000.0    85718 -110.910593  32.339090       1.67  27802.84   \n",
              "...          ...      ...         ...        ...        ...       ...   \n",
              "4939    495000.0    85641 -110.661829  31.907917       4.98   2017.00   \n",
              "4940    550000.0    85750 -110.858556  32.316373       1.42   4822.01   \n",
              "4941    475000.0    85192 -110.755428  32.964708      12.06   1000.00   \n",
              "4942    550000.0    85745 -111.055528  32.296871       1.01   5822.93   \n",
              "4943    450000.0    85621 -110.913054  31.385259       4.16   2814.48   \n",
              "\n",
              "      year_built  bedrooms  bathrooms  sqrt_ft  ...  cooking  storage  \\\n",
              "0           1941        13       10.0  10500.0  ...     True     True   \n",
              "1           1997         2        2.0   7300.0  ...    False    False   \n",
              "2           1930         7        5.0   9019.0  ...    False     True   \n",
              "3           1995         4        6.0   6396.0  ...     True     True   \n",
              "4           1999         3        4.0   6842.0  ...     True     True   \n",
              "...          ...       ...        ...      ...  ...      ...      ...   \n",
              "4939        2005         5        3.0   3601.0  ...    False     True   \n",
              "4940        1990         4        3.0   2318.0  ...     True     True   \n",
              "4941        1969         3        2.0   1772.0  ...    False     True   \n",
              "4942        2009         4        4.0   3724.0  ...     True     True   \n",
              "4943        1988         4        4.0   4317.0  ...    False    False   \n",
              "\n",
              "     cleaning  countertop  water   tile  carpet  stone  other floor  \\\n",
              "0        True       False  False  False   False  False         True   \n",
              "1        True       False  False  False   False  False        False   \n",
              "2        True        True  False  False   False  False         True   \n",
              "3        True       False  False  False    True  False         True   \n",
              "4        True       False  False  False   False  False         True   \n",
              "...       ...         ...    ...    ...     ...    ...          ...   \n",
              "4939     True        True  False  False    True  False        False   \n",
              "4940     True        True  False  False    True  False        False   \n",
              "4941     True        True   True  False   False  False        False   \n",
              "4942     True        True  False  False    True  False        False   \n",
              "4943     True        True  False  False    True  False        False   \n",
              "\n",
              "      price_per_sqft  \n",
              "0         504.761905  \n",
              "1         575.342466  \n",
              "2         498.946668  \n",
              "3         533.372420  \n",
              "4         475.007308  \n",
              "...              ...  \n",
              "4939      137.461816  \n",
              "4940      237.273512  \n",
              "4941      268.058691  \n",
              "4942      147.690655  \n",
              "4943      104.239055  \n",
              "\n",
              "[4944 rows x 24 columns]"
            ],
            "text/html": [
              "\n",
              "  <div id=\"df-d2d12721-ef76-4ea9-9205-0cbc9baa32d0\">\n",
              "    <div class=\"colab-df-container\">\n",
              "      <div>\n",
              "<style scoped>\n",
              "    .dataframe tbody tr th:only-of-type {\n",
              "        vertical-align: middle;\n",
              "    }\n",
              "\n",
              "    .dataframe tbody tr th {\n",
              "        vertical-align: top;\n",
              "    }\n",
              "\n",
              "    .dataframe thead th {\n",
              "        text-align: right;\n",
              "    }\n",
              "</style>\n",
              "<table border=\"1\" class=\"dataframe\">\n",
              "  <thead>\n",
              "    <tr style=\"text-align: right;\">\n",
              "      <th></th>\n",
              "      <th>sold_price</th>\n",
              "      <th>zipcode</th>\n",
              "      <th>longitude</th>\n",
              "      <th>latitude</th>\n",
              "      <th>lot_acres</th>\n",
              "      <th>taxes</th>\n",
              "      <th>year_built</th>\n",
              "      <th>bedrooms</th>\n",
              "      <th>bathrooms</th>\n",
              "      <th>sqrt_ft</th>\n",
              "      <th>...</th>\n",
              "      <th>cooking</th>\n",
              "      <th>storage</th>\n",
              "      <th>cleaning</th>\n",
              "      <th>countertop</th>\n",
              "      <th>water</th>\n",
              "      <th>tile</th>\n",
              "      <th>carpet</th>\n",
              "      <th>stone</th>\n",
              "      <th>other floor</th>\n",
              "      <th>price_per_sqft</th>\n",
              "    </tr>\n",
              "  </thead>\n",
              "  <tbody>\n",
              "    <tr>\n",
              "      <th>0</th>\n",
              "      <td>5300000.0</td>\n",
              "      <td>85637</td>\n",
              "      <td>-110.378200</td>\n",
              "      <td>31.356362</td>\n",
              "      <td>2154.00</td>\n",
              "      <td>5272.00</td>\n",
              "      <td>1941</td>\n",
              "      <td>13</td>\n",
              "      <td>10.0</td>\n",
              "      <td>10500.0</td>\n",
              "      <td>...</td>\n",
              "      <td>True</td>\n",
              "      <td>True</td>\n",
              "      <td>True</td>\n",
              "      <td>False</td>\n",
              "      <td>False</td>\n",
              "      <td>False</td>\n",
              "      <td>False</td>\n",
              "      <td>False</td>\n",
              "      <td>True</td>\n",
              "      <td>504.761905</td>\n",
              "    </tr>\n",
              "    <tr>\n",
              "      <th>1</th>\n",
              "      <td>4200000.0</td>\n",
              "      <td>85646</td>\n",
              "      <td>-111.045371</td>\n",
              "      <td>31.594213</td>\n",
              "      <td>1707.00</td>\n",
              "      <td>10422.36</td>\n",
              "      <td>1997</td>\n",
              "      <td>2</td>\n",
              "      <td>2.0</td>\n",
              "      <td>7300.0</td>\n",
              "      <td>...</td>\n",
              "      <td>False</td>\n",
              "      <td>False</td>\n",
              "      <td>True</td>\n",
              "      <td>False</td>\n",
              "      <td>False</td>\n",
              "      <td>False</td>\n",
              "      <td>False</td>\n",
              "      <td>False</td>\n",
              "      <td>False</td>\n",
              "      <td>575.342466</td>\n",
              "    </tr>\n",
              "    <tr>\n",
              "      <th>2</th>\n",
              "      <td>4500000.0</td>\n",
              "      <td>85646</td>\n",
              "      <td>-111.035925</td>\n",
              "      <td>31.645878</td>\n",
              "      <td>636.67</td>\n",
              "      <td>8418.58</td>\n",
              "      <td>1930</td>\n",
              "      <td>7</td>\n",
              "      <td>5.0</td>\n",
              "      <td>9019.0</td>\n",
              "      <td>...</td>\n",
              "      <td>False</td>\n",
              "      <td>True</td>\n",
              "      <td>True</td>\n",
              "      <td>True</td>\n",
              "      <td>False</td>\n",
              "      <td>False</td>\n",
              "      <td>False</td>\n",
              "      <td>False</td>\n",
              "      <td>True</td>\n",
              "      <td>498.946668</td>\n",
              "    </tr>\n",
              "    <tr>\n",
              "      <th>3</th>\n",
              "      <td>3411450.0</td>\n",
              "      <td>85750</td>\n",
              "      <td>-110.813768</td>\n",
              "      <td>32.285162</td>\n",
              "      <td>3.21</td>\n",
              "      <td>15393.00</td>\n",
              "      <td>1995</td>\n",
              "      <td>4</td>\n",
              "      <td>6.0</td>\n",
              "      <td>6396.0</td>\n",
              "      <td>...</td>\n",
              "      <td>True</td>\n",
              "      <td>True</td>\n",
              "      <td>True</td>\n",
              "      <td>False</td>\n",
              "      <td>False</td>\n",
              "      <td>False</td>\n",
              "      <td>True</td>\n",
              "      <td>False</td>\n",
              "      <td>True</td>\n",
              "      <td>533.372420</td>\n",
              "    </tr>\n",
              "    <tr>\n",
              "      <th>4</th>\n",
              "      <td>3250000.0</td>\n",
              "      <td>85718</td>\n",
              "      <td>-110.910593</td>\n",
              "      <td>32.339090</td>\n",
              "      <td>1.67</td>\n",
              "      <td>27802.84</td>\n",
              "      <td>1999</td>\n",
              "      <td>3</td>\n",
              "      <td>4.0</td>\n",
              "      <td>6842.0</td>\n",
              "      <td>...</td>\n",
              "      <td>True</td>\n",
              "      <td>True</td>\n",
              "      <td>True</td>\n",
              "      <td>False</td>\n",
              "      <td>False</td>\n",
              "      <td>False</td>\n",
              "      <td>False</td>\n",
              "      <td>False</td>\n",
              "      <td>True</td>\n",
              "      <td>475.007308</td>\n",
              "    </tr>\n",
              "    <tr>\n",
              "      <th>...</th>\n",
              "      <td>...</td>\n",
              "      <td>...</td>\n",
              "      <td>...</td>\n",
              "      <td>...</td>\n",
              "      <td>...</td>\n",
              "      <td>...</td>\n",
              "      <td>...</td>\n",
              "      <td>...</td>\n",
              "      <td>...</td>\n",
              "      <td>...</td>\n",
              "      <td>...</td>\n",
              "      <td>...</td>\n",
              "      <td>...</td>\n",
              "      <td>...</td>\n",
              "      <td>...</td>\n",
              "      <td>...</td>\n",
              "      <td>...</td>\n",
              "      <td>...</td>\n",
              "      <td>...</td>\n",
              "      <td>...</td>\n",
              "      <td>...</td>\n",
              "    </tr>\n",
              "    <tr>\n",
              "      <th>4939</th>\n",
              "      <td>495000.0</td>\n",
              "      <td>85641</td>\n",
              "      <td>-110.661829</td>\n",
              "      <td>31.907917</td>\n",
              "      <td>4.98</td>\n",
              "      <td>2017.00</td>\n",
              "      <td>2005</td>\n",
              "      <td>5</td>\n",
              "      <td>3.0</td>\n",
              "      <td>3601.0</td>\n",
              "      <td>...</td>\n",
              "      <td>False</td>\n",
              "      <td>True</td>\n",
              "      <td>True</td>\n",
              "      <td>True</td>\n",
              "      <td>False</td>\n",
              "      <td>False</td>\n",
              "      <td>True</td>\n",
              "      <td>False</td>\n",
              "      <td>False</td>\n",
              "      <td>137.461816</td>\n",
              "    </tr>\n",
              "    <tr>\n",
              "      <th>4940</th>\n",
              "      <td>550000.0</td>\n",
              "      <td>85750</td>\n",
              "      <td>-110.858556</td>\n",
              "      <td>32.316373</td>\n",
              "      <td>1.42</td>\n",
              "      <td>4822.01</td>\n",
              "      <td>1990</td>\n",
              "      <td>4</td>\n",
              "      <td>3.0</td>\n",
              "      <td>2318.0</td>\n",
              "      <td>...</td>\n",
              "      <td>True</td>\n",
              "      <td>True</td>\n",
              "      <td>True</td>\n",
              "      <td>True</td>\n",
              "      <td>False</td>\n",
              "      <td>False</td>\n",
              "      <td>True</td>\n",
              "      <td>False</td>\n",
              "      <td>False</td>\n",
              "      <td>237.273512</td>\n",
              "    </tr>\n",
              "    <tr>\n",
              "      <th>4941</th>\n",
              "      <td>475000.0</td>\n",
              "      <td>85192</td>\n",
              "      <td>-110.755428</td>\n",
              "      <td>32.964708</td>\n",
              "      <td>12.06</td>\n",
              "      <td>1000.00</td>\n",
              "      <td>1969</td>\n",
              "      <td>3</td>\n",
              "      <td>2.0</td>\n",
              "      <td>1772.0</td>\n",
              "      <td>...</td>\n",
              "      <td>False</td>\n",
              "      <td>True</td>\n",
              "      <td>True</td>\n",
              "      <td>True</td>\n",
              "      <td>True</td>\n",
              "      <td>False</td>\n",
              "      <td>False</td>\n",
              "      <td>False</td>\n",
              "      <td>False</td>\n",
              "      <td>268.058691</td>\n",
              "    </tr>\n",
              "    <tr>\n",
              "      <th>4942</th>\n",
              "      <td>550000.0</td>\n",
              "      <td>85745</td>\n",
              "      <td>-111.055528</td>\n",
              "      <td>32.296871</td>\n",
              "      <td>1.01</td>\n",
              "      <td>5822.93</td>\n",
              "      <td>2009</td>\n",
              "      <td>4</td>\n",
              "      <td>4.0</td>\n",
              "      <td>3724.0</td>\n",
              "      <td>...</td>\n",
              "      <td>True</td>\n",
              "      <td>True</td>\n",
              "      <td>True</td>\n",
              "      <td>True</td>\n",
              "      <td>False</td>\n",
              "      <td>False</td>\n",
              "      <td>True</td>\n",
              "      <td>False</td>\n",
              "      <td>False</td>\n",
              "      <td>147.690655</td>\n",
              "    </tr>\n",
              "    <tr>\n",
              "      <th>4943</th>\n",
              "      <td>450000.0</td>\n",
              "      <td>85621</td>\n",
              "      <td>-110.913054</td>\n",
              "      <td>31.385259</td>\n",
              "      <td>4.16</td>\n",
              "      <td>2814.48</td>\n",
              "      <td>1988</td>\n",
              "      <td>4</td>\n",
              "      <td>4.0</td>\n",
              "      <td>4317.0</td>\n",
              "      <td>...</td>\n",
              "      <td>False</td>\n",
              "      <td>False</td>\n",
              "      <td>True</td>\n",
              "      <td>True</td>\n",
              "      <td>False</td>\n",
              "      <td>False</td>\n",
              "      <td>True</td>\n",
              "      <td>False</td>\n",
              "      <td>False</td>\n",
              "      <td>104.239055</td>\n",
              "    </tr>\n",
              "  </tbody>\n",
              "</table>\n",
              "<p>4944 rows × 24 columns</p>\n",
              "</div>\n",
              "      <button class=\"colab-df-convert\" onclick=\"convertToInteractive('df-d2d12721-ef76-4ea9-9205-0cbc9baa32d0')\"\n",
              "              title=\"Convert this dataframe to an interactive table.\"\n",
              "              style=\"display:none;\">\n",
              "        \n",
              "  <svg xmlns=\"http://www.w3.org/2000/svg\" height=\"24px\"viewBox=\"0 0 24 24\"\n",
              "       width=\"24px\">\n",
              "    <path d=\"M0 0h24v24H0V0z\" fill=\"none\"/>\n",
              "    <path d=\"M18.56 5.44l.94 2.06.94-2.06 2.06-.94-2.06-.94-.94-2.06-.94 2.06-2.06.94zm-11 1L8.5 8.5l.94-2.06 2.06-.94-2.06-.94L8.5 2.5l-.94 2.06-2.06.94zm10 10l.94 2.06.94-2.06 2.06-.94-2.06-.94-.94-2.06-.94 2.06-2.06.94z\"/><path d=\"M17.41 7.96l-1.37-1.37c-.4-.4-.92-.59-1.43-.59-.52 0-1.04.2-1.43.59L10.3 9.45l-7.72 7.72c-.78.78-.78 2.05 0 2.83L4 21.41c.39.39.9.59 1.41.59.51 0 1.02-.2 1.41-.59l7.78-7.78 2.81-2.81c.8-.78.8-2.07 0-2.86zM5.41 20L4 18.59l7.72-7.72 1.47 1.35L5.41 20z\"/>\n",
              "  </svg>\n",
              "      </button>\n",
              "      \n",
              "  <style>\n",
              "    .colab-df-container {\n",
              "      display:flex;\n",
              "      flex-wrap:wrap;\n",
              "      gap: 12px;\n",
              "    }\n",
              "\n",
              "    .colab-df-convert {\n",
              "      background-color: #E8F0FE;\n",
              "      border: none;\n",
              "      border-radius: 50%;\n",
              "      cursor: pointer;\n",
              "      display: none;\n",
              "      fill: #1967D2;\n",
              "      height: 32px;\n",
              "      padding: 0 0 0 0;\n",
              "      width: 32px;\n",
              "    }\n",
              "\n",
              "    .colab-df-convert:hover {\n",
              "      background-color: #E2EBFA;\n",
              "      box-shadow: 0px 1px 2px rgba(60, 64, 67, 0.3), 0px 1px 3px 1px rgba(60, 64, 67, 0.15);\n",
              "      fill: #174EA6;\n",
              "    }\n",
              "\n",
              "    [theme=dark] .colab-df-convert {\n",
              "      background-color: #3B4455;\n",
              "      fill: #D2E3FC;\n",
              "    }\n",
              "\n",
              "    [theme=dark] .colab-df-convert:hover {\n",
              "      background-color: #434B5C;\n",
              "      box-shadow: 0px 1px 3px 1px rgba(0, 0, 0, 0.15);\n",
              "      filter: drop-shadow(0px 1px 2px rgba(0, 0, 0, 0.3));\n",
              "      fill: #FFFFFF;\n",
              "    }\n",
              "  </style>\n",
              "\n",
              "      <script>\n",
              "        const buttonEl =\n",
              "          document.querySelector('#df-d2d12721-ef76-4ea9-9205-0cbc9baa32d0 button.colab-df-convert');\n",
              "        buttonEl.style.display =\n",
              "          google.colab.kernel.accessAllowed ? 'block' : 'none';\n",
              "\n",
              "        async function convertToInteractive(key) {\n",
              "          const element = document.querySelector('#df-d2d12721-ef76-4ea9-9205-0cbc9baa32d0');\n",
              "          const dataTable =\n",
              "            await google.colab.kernel.invokeFunction('convertToInteractive',\n",
              "                                                     [key], {});\n",
              "          if (!dataTable) return;\n",
              "\n",
              "          const docLinkHtml = 'Like what you see? Visit the ' +\n",
              "            '<a target=\"_blank\" href=https://colab.research.google.com/notebooks/data_table.ipynb>data table notebook</a>'\n",
              "            + ' to learn more about interactive tables.';\n",
              "          element.innerHTML = '';\n",
              "          dataTable['output_type'] = 'display_data';\n",
              "          await google.colab.output.renderOutput(dataTable, element);\n",
              "          const docLink = document.createElement('div');\n",
              "          docLink.innerHTML = docLinkHtml;\n",
              "          element.appendChild(docLink);\n",
              "        }\n",
              "      </script>\n",
              "    </div>\n",
              "  </div>\n",
              "  "
            ]
          },
          "metadata": {},
          "execution_count": 302
        }
      ]
    },
    {
      "cell_type": "code",
      "source": [
        "house_df['latitude'].describe()"
      ],
      "metadata": {
        "colab": {
          "base_uri": "https://localhost:8080/"
        },
        "id": "XxmeMoIClTHr",
        "outputId": "48a6878b-241d-4848-c23e-b1f27a1da71c"
      },
      "execution_count": 303,
      "outputs": [
        {
          "output_type": "execute_result",
          "data": {
            "text/plain": [
              "count    4944.000000\n",
              "mean       32.314540\n",
              "std         0.169380\n",
              "min        31.356362\n",
              "25%        32.280278\n",
              "50%        32.319136\n",
              "75%        32.396124\n",
              "max        34.927884\n",
              "Name: latitude, dtype: float64"
            ]
          },
          "metadata": {},
          "execution_count": 303
        }
      ]
    },
    {
      "cell_type": "markdown",
      "source": [
        "## KNN gets: long / lat data => $ / sqft"
      ],
      "metadata": {
        "id": "Pr41_la8Ksyy"
      }
    },
    {
      "cell_type": "code",
      "source": [
        "house_df['price_per_sqft'].describe()"
      ],
      "metadata": {
        "colab": {
          "base_uri": "https://localhost:8080/"
        },
        "id": "gXdxHsbDSFZQ",
        "outputId": "9399b1ae-f619-4d8a-ff5f-06a7e86759f0"
      },
      "execution_count": 304,
      "outputs": [
        {
          "output_type": "execute_result",
          "data": {
            "text/plain": [
              "count    4944.000000\n",
              "mean      212.527212\n",
              "std        66.730393\n",
              "min        24.544805\n",
              "25%       175.502133\n",
              "50%       202.598297\n",
              "75%       234.103497\n",
              "max      1208.333333\n",
              "Name: price_per_sqft, dtype: float64"
            ]
          },
          "metadata": {},
          "execution_count": 304
        }
      ]
    },
    {
      "cell_type": "code",
      "source": [
        "house_df.head()"
      ],
      "metadata": {
        "colab": {
          "base_uri": "https://localhost:8080/",
          "height": 317
        },
        "id": "QlIID1e0MIcO",
        "outputId": "95bf0ccb-ed7e-4d0a-9872-b4532501b970"
      },
      "execution_count": 305,
      "outputs": [
        {
          "output_type": "execute_result",
          "data": {
            "text/plain": [
              "   sold_price  zipcode   longitude   latitude  lot_acres     taxes  \\\n",
              "0   5300000.0    85637 -110.378200  31.356362    2154.00   5272.00   \n",
              "1   4200000.0    85646 -111.045371  31.594213    1707.00  10422.36   \n",
              "2   4500000.0    85646 -111.035925  31.645878     636.67   8418.58   \n",
              "3   3411450.0    85750 -110.813768  32.285162       3.21  15393.00   \n",
              "4   3250000.0    85718 -110.910593  32.339090       1.67  27802.84   \n",
              "\n",
              "   year_built  bedrooms  bathrooms  sqrt_ft  ...  cooking  storage cleaning  \\\n",
              "0        1941        13       10.0  10500.0  ...     True     True     True   \n",
              "1        1997         2        2.0   7300.0  ...    False    False     True   \n",
              "2        1930         7        5.0   9019.0  ...    False     True     True   \n",
              "3        1995         4        6.0   6396.0  ...     True     True     True   \n",
              "4        1999         3        4.0   6842.0  ...     True     True     True   \n",
              "\n",
              "   countertop  water   tile  carpet  stone  other floor  price_per_sqft  \n",
              "0       False  False  False   False  False         True      504.761905  \n",
              "1       False  False  False   False  False        False      575.342466  \n",
              "2        True  False  False   False  False         True      498.946668  \n",
              "3       False  False  False    True  False         True      533.372420  \n",
              "4       False  False  False   False  False         True      475.007308  \n",
              "\n",
              "[5 rows x 24 columns]"
            ],
            "text/html": [
              "\n",
              "  <div id=\"df-3b320073-c57b-4edb-84f6-b976301b1221\">\n",
              "    <div class=\"colab-df-container\">\n",
              "      <div>\n",
              "<style scoped>\n",
              "    .dataframe tbody tr th:only-of-type {\n",
              "        vertical-align: middle;\n",
              "    }\n",
              "\n",
              "    .dataframe tbody tr th {\n",
              "        vertical-align: top;\n",
              "    }\n",
              "\n",
              "    .dataframe thead th {\n",
              "        text-align: right;\n",
              "    }\n",
              "</style>\n",
              "<table border=\"1\" class=\"dataframe\">\n",
              "  <thead>\n",
              "    <tr style=\"text-align: right;\">\n",
              "      <th></th>\n",
              "      <th>sold_price</th>\n",
              "      <th>zipcode</th>\n",
              "      <th>longitude</th>\n",
              "      <th>latitude</th>\n",
              "      <th>lot_acres</th>\n",
              "      <th>taxes</th>\n",
              "      <th>year_built</th>\n",
              "      <th>bedrooms</th>\n",
              "      <th>bathrooms</th>\n",
              "      <th>sqrt_ft</th>\n",
              "      <th>...</th>\n",
              "      <th>cooking</th>\n",
              "      <th>storage</th>\n",
              "      <th>cleaning</th>\n",
              "      <th>countertop</th>\n",
              "      <th>water</th>\n",
              "      <th>tile</th>\n",
              "      <th>carpet</th>\n",
              "      <th>stone</th>\n",
              "      <th>other floor</th>\n",
              "      <th>price_per_sqft</th>\n",
              "    </tr>\n",
              "  </thead>\n",
              "  <tbody>\n",
              "    <tr>\n",
              "      <th>0</th>\n",
              "      <td>5300000.0</td>\n",
              "      <td>85637</td>\n",
              "      <td>-110.378200</td>\n",
              "      <td>31.356362</td>\n",
              "      <td>2154.00</td>\n",
              "      <td>5272.00</td>\n",
              "      <td>1941</td>\n",
              "      <td>13</td>\n",
              "      <td>10.0</td>\n",
              "      <td>10500.0</td>\n",
              "      <td>...</td>\n",
              "      <td>True</td>\n",
              "      <td>True</td>\n",
              "      <td>True</td>\n",
              "      <td>False</td>\n",
              "      <td>False</td>\n",
              "      <td>False</td>\n",
              "      <td>False</td>\n",
              "      <td>False</td>\n",
              "      <td>True</td>\n",
              "      <td>504.761905</td>\n",
              "    </tr>\n",
              "    <tr>\n",
              "      <th>1</th>\n",
              "      <td>4200000.0</td>\n",
              "      <td>85646</td>\n",
              "      <td>-111.045371</td>\n",
              "      <td>31.594213</td>\n",
              "      <td>1707.00</td>\n",
              "      <td>10422.36</td>\n",
              "      <td>1997</td>\n",
              "      <td>2</td>\n",
              "      <td>2.0</td>\n",
              "      <td>7300.0</td>\n",
              "      <td>...</td>\n",
              "      <td>False</td>\n",
              "      <td>False</td>\n",
              "      <td>True</td>\n",
              "      <td>False</td>\n",
              "      <td>False</td>\n",
              "      <td>False</td>\n",
              "      <td>False</td>\n",
              "      <td>False</td>\n",
              "      <td>False</td>\n",
              "      <td>575.342466</td>\n",
              "    </tr>\n",
              "    <tr>\n",
              "      <th>2</th>\n",
              "      <td>4500000.0</td>\n",
              "      <td>85646</td>\n",
              "      <td>-111.035925</td>\n",
              "      <td>31.645878</td>\n",
              "      <td>636.67</td>\n",
              "      <td>8418.58</td>\n",
              "      <td>1930</td>\n",
              "      <td>7</td>\n",
              "      <td>5.0</td>\n",
              "      <td>9019.0</td>\n",
              "      <td>...</td>\n",
              "      <td>False</td>\n",
              "      <td>True</td>\n",
              "      <td>True</td>\n",
              "      <td>True</td>\n",
              "      <td>False</td>\n",
              "      <td>False</td>\n",
              "      <td>False</td>\n",
              "      <td>False</td>\n",
              "      <td>True</td>\n",
              "      <td>498.946668</td>\n",
              "    </tr>\n",
              "    <tr>\n",
              "      <th>3</th>\n",
              "      <td>3411450.0</td>\n",
              "      <td>85750</td>\n",
              "      <td>-110.813768</td>\n",
              "      <td>32.285162</td>\n",
              "      <td>3.21</td>\n",
              "      <td>15393.00</td>\n",
              "      <td>1995</td>\n",
              "      <td>4</td>\n",
              "      <td>6.0</td>\n",
              "      <td>6396.0</td>\n",
              "      <td>...</td>\n",
              "      <td>True</td>\n",
              "      <td>True</td>\n",
              "      <td>True</td>\n",
              "      <td>False</td>\n",
              "      <td>False</td>\n",
              "      <td>False</td>\n",
              "      <td>True</td>\n",
              "      <td>False</td>\n",
              "      <td>True</td>\n",
              "      <td>533.372420</td>\n",
              "    </tr>\n",
              "    <tr>\n",
              "      <th>4</th>\n",
              "      <td>3250000.0</td>\n",
              "      <td>85718</td>\n",
              "      <td>-110.910593</td>\n",
              "      <td>32.339090</td>\n",
              "      <td>1.67</td>\n",
              "      <td>27802.84</td>\n",
              "      <td>1999</td>\n",
              "      <td>3</td>\n",
              "      <td>4.0</td>\n",
              "      <td>6842.0</td>\n",
              "      <td>...</td>\n",
              "      <td>True</td>\n",
              "      <td>True</td>\n",
              "      <td>True</td>\n",
              "      <td>False</td>\n",
              "      <td>False</td>\n",
              "      <td>False</td>\n",
              "      <td>False</td>\n",
              "      <td>False</td>\n",
              "      <td>True</td>\n",
              "      <td>475.007308</td>\n",
              "    </tr>\n",
              "  </tbody>\n",
              "</table>\n",
              "<p>5 rows × 24 columns</p>\n",
              "</div>\n",
              "      <button class=\"colab-df-convert\" onclick=\"convertToInteractive('df-3b320073-c57b-4edb-84f6-b976301b1221')\"\n",
              "              title=\"Convert this dataframe to an interactive table.\"\n",
              "              style=\"display:none;\">\n",
              "        \n",
              "  <svg xmlns=\"http://www.w3.org/2000/svg\" height=\"24px\"viewBox=\"0 0 24 24\"\n",
              "       width=\"24px\">\n",
              "    <path d=\"M0 0h24v24H0V0z\" fill=\"none\"/>\n",
              "    <path d=\"M18.56 5.44l.94 2.06.94-2.06 2.06-.94-2.06-.94-.94-2.06-.94 2.06-2.06.94zm-11 1L8.5 8.5l.94-2.06 2.06-.94-2.06-.94L8.5 2.5l-.94 2.06-2.06.94zm10 10l.94 2.06.94-2.06 2.06-.94-2.06-.94-.94-2.06-.94 2.06-2.06.94z\"/><path d=\"M17.41 7.96l-1.37-1.37c-.4-.4-.92-.59-1.43-.59-.52 0-1.04.2-1.43.59L10.3 9.45l-7.72 7.72c-.78.78-.78 2.05 0 2.83L4 21.41c.39.39.9.59 1.41.59.51 0 1.02-.2 1.41-.59l7.78-7.78 2.81-2.81c.8-.78.8-2.07 0-2.86zM5.41 20L4 18.59l7.72-7.72 1.47 1.35L5.41 20z\"/>\n",
              "  </svg>\n",
              "      </button>\n",
              "      \n",
              "  <style>\n",
              "    .colab-df-container {\n",
              "      display:flex;\n",
              "      flex-wrap:wrap;\n",
              "      gap: 12px;\n",
              "    }\n",
              "\n",
              "    .colab-df-convert {\n",
              "      background-color: #E8F0FE;\n",
              "      border: none;\n",
              "      border-radius: 50%;\n",
              "      cursor: pointer;\n",
              "      display: none;\n",
              "      fill: #1967D2;\n",
              "      height: 32px;\n",
              "      padding: 0 0 0 0;\n",
              "      width: 32px;\n",
              "    }\n",
              "\n",
              "    .colab-df-convert:hover {\n",
              "      background-color: #E2EBFA;\n",
              "      box-shadow: 0px 1px 2px rgba(60, 64, 67, 0.3), 0px 1px 3px 1px rgba(60, 64, 67, 0.15);\n",
              "      fill: #174EA6;\n",
              "    }\n",
              "\n",
              "    [theme=dark] .colab-df-convert {\n",
              "      background-color: #3B4455;\n",
              "      fill: #D2E3FC;\n",
              "    }\n",
              "\n",
              "    [theme=dark] .colab-df-convert:hover {\n",
              "      background-color: #434B5C;\n",
              "      box-shadow: 0px 1px 3px 1px rgba(0, 0, 0, 0.15);\n",
              "      filter: drop-shadow(0px 1px 2px rgba(0, 0, 0, 0.3));\n",
              "      fill: #FFFFFF;\n",
              "    }\n",
              "  </style>\n",
              "\n",
              "      <script>\n",
              "        const buttonEl =\n",
              "          document.querySelector('#df-3b320073-c57b-4edb-84f6-b976301b1221 button.colab-df-convert');\n",
              "        buttonEl.style.display =\n",
              "          google.colab.kernel.accessAllowed ? 'block' : 'none';\n",
              "\n",
              "        async function convertToInteractive(key) {\n",
              "          const element = document.querySelector('#df-3b320073-c57b-4edb-84f6-b976301b1221');\n",
              "          const dataTable =\n",
              "            await google.colab.kernel.invokeFunction('convertToInteractive',\n",
              "                                                     [key], {});\n",
              "          if (!dataTable) return;\n",
              "\n",
              "          const docLinkHtml = 'Like what you see? Visit the ' +\n",
              "            '<a target=\"_blank\" href=https://colab.research.google.com/notebooks/data_table.ipynb>data table notebook</a>'\n",
              "            + ' to learn more about interactive tables.';\n",
              "          element.innerHTML = '';\n",
              "          dataTable['output_type'] = 'display_data';\n",
              "          await google.colab.output.renderOutput(dataTable, element);\n",
              "          const docLink = document.createElement('div');\n",
              "          docLink.innerHTML = docLinkHtml;\n",
              "          element.appendChild(docLink);\n",
              "        }\n",
              "      </script>\n",
              "    </div>\n",
              "  </div>\n",
              "  "
            ]
          },
          "metadata": {},
          "execution_count": 305
        }
      ]
    },
    {
      "cell_type": "code",
      "source": [
        "house_df.columns"
      ],
      "metadata": {
        "colab": {
          "base_uri": "https://localhost:8080/"
        },
        "id": "v4jfR4K9oMQT",
        "outputId": "b9ecb5d7-aaa9-4bff-eb01-982b12e2ae4c"
      },
      "execution_count": 306,
      "outputs": [
        {
          "output_type": "execute_result",
          "data": {
            "text/plain": [
              "Index(['sold_price', 'zipcode', 'longitude', 'latitude', 'lot_acres', 'taxes',\n",
              "       'year_built', 'bedrooms', 'bathrooms', 'sqrt_ft', 'garage',\n",
              "       'fireplaces', 'floor_covering', 'HOA', 'cooking', 'storage', 'cleaning',\n",
              "       'countertop', 'water', 'tile', 'carpet', 'stone', 'other floor',\n",
              "       'price_per_sqft'],\n",
              "      dtype='object')"
            ]
          },
          "metadata": {},
          "execution_count": 306
        }
      ]
    },
    {
      "cell_type": "code",
      "source": [
        "# Define the number of bins\n",
        "num_bins = 10\n",
        "\n",
        "# Calculate the bin width based on the range of 'price_per_sqft'\n",
        "bin_width = (house_df['price_per_sqft'].max() - house_df['price_per_sqft'].min()) / num_bins\n",
        "\n",
        "# Define the bin edges\n",
        "bin_edges = [house_df['price_per_sqft'].min() + i * bin_width for i in range(num_bins + 1)]\n",
        "\n",
        "# Assign each value to a bin based on the bin edges\n",
        "bins = []\n",
        "for value in house_df['price_per_sqft']:\n",
        "    for i in range(num_bins):\n",
        "        if bin_edges[i] <= value < bin_edges[i+1]:\n",
        "            bins.append(i + 1)\n",
        "            break\n",
        "\n",
        "# Create a new column 'price_per_sqft_bins' with the bin values\n",
        "house_df['price_per_sqft_bins'] = pd.Series(bins)\n",
        "\n",
        "# Print the number of values in each bin\n",
        "print(house_df['price_per_sqft_bins'].value_counts())\n",
        "\n",
        "# Define the ranges of each bin\n",
        "bin_ranges = [(bin_edges[i], bin_edges[i+1]) for i in range(num_bins)]\n",
        "\n",
        "# Define the widths of each bin\n",
        "bin_widths = [bin_edges[i+1] - bin_edges[i] for i in range(num_bins)]\n",
        "\n",
        "# Print the bin ranges and widths\n",
        "for i in range(num_bins):\n",
        "    print(f'Bin {i+1} ({bin_ranges[i][0]:.2f}, {bin_ranges[i][1]:.2f}): width = {bin_widths[i]:.2f}')\n"
      ],
      "metadata": {
        "colab": {
          "base_uri": "https://localhost:8080/"
        },
        "id": "SdARTABAcmup",
        "outputId": "3a94287a-29b6-4c56-95f4-56876ec1f0aa"
      },
      "execution_count": 307,
      "outputs": [
        {
          "output_type": "stream",
          "name": "stdout",
          "text": [
            "2.0    3978\n",
            "3.0     565\n",
            "1.0     297\n",
            "4.0      64\n",
            "5.0      26\n",
            "6.0       5\n",
            "7.0       5\n",
            "8.0       3\n",
            "Name: price_per_sqft_bins, dtype: int64\n",
            "Bin 1 (24.54, 142.92): width = 118.38\n",
            "Bin 2 (142.92, 261.30): width = 118.38\n",
            "Bin 3 (261.30, 379.68): width = 118.38\n",
            "Bin 4 (379.68, 498.06): width = 118.38\n",
            "Bin 5 (498.06, 616.44): width = 118.38\n",
            "Bin 6 (616.44, 734.82): width = 118.38\n",
            "Bin 7 (734.82, 853.20): width = 118.38\n",
            "Bin 8 (853.20, 971.58): width = 118.38\n",
            "Bin 9 (971.58, 1089.95): width = 118.38\n",
            "Bin 10 (1089.95, 1208.33): width = 118.38\n"
          ]
        }
      ]
    },
    {
      "cell_type": "code",
      "source": [
        "house_df.price_per_sqft_bins"
      ],
      "metadata": {
        "colab": {
          "base_uri": "https://localhost:8080/"
        },
        "id": "UYzzQUUIe94d",
        "outputId": "b6e9199a-38f2-4120-e98c-6a3ce8838480"
      },
      "execution_count": 308,
      "outputs": [
        {
          "output_type": "execute_result",
          "data": {
            "text/plain": [
              "0       5.0\n",
              "1       5.0\n",
              "2       5.0\n",
              "3       5.0\n",
              "4       4.0\n",
              "       ... \n",
              "4939    2.0\n",
              "4940    3.0\n",
              "4941    2.0\n",
              "4942    1.0\n",
              "4943    NaN\n",
              "Name: price_per_sqft_bins, Length: 4944, dtype: float64"
            ]
          },
          "metadata": {},
          "execution_count": 308
        }
      ]
    },
    {
      "cell_type": "code",
      "source": [
        "# house_df.dropna"
      ],
      "metadata": {
        "id": "P4YfKCKrjgAl"
      },
      "execution_count": 309,
      "outputs": []
    },
    {
      "cell_type": "code",
      "source": [
        "has_nan = house_df['price_per_sqft_bins'].isnull().any()\n",
        "\n",
        "if has_nan:\n",
        "    print(\"The 'feature' column contains NaN values.\")\n",
        "else:\n",
        "    print(\"The 'feature' column does not contain NaN values.\")"
      ],
      "metadata": {
        "id": "eX1FUx4Jl19a",
        "outputId": "588fe56c-651b-4bcf-8a92-8bc838eb1586",
        "colab": {
          "base_uri": "https://localhost:8080/"
        }
      },
      "execution_count": 310,
      "outputs": [
        {
          "output_type": "stream",
          "name": "stdout",
          "text": [
            "The 'feature' column contains NaN values.\n"
          ]
        }
      ]
    },
    {
      "cell_type": "code",
      "source": [
        "house_df = house_df.dropna(subset=['price_per_sqft_bins'])"
      ],
      "metadata": {
        "id": "yKYA5Yi8lMj_"
      },
      "execution_count": 311,
      "outputs": []
    },
    {
      "cell_type": "code",
      "source": [
        "house_df['price_per_sqft_bins'] = house_df['price_per_sqft_bins'].astype(int)"
      ],
      "metadata": {
        "id": "ET9R5ESjnKiW",
        "outputId": "bdb22248-84ab-49fc-a88b-7e8a1936bcf0",
        "colab": {
          "base_uri": "https://localhost:8080/"
        }
      },
      "execution_count": 312,
      "outputs": [
        {
          "output_type": "stream",
          "name": "stderr",
          "text": [
            "<ipython-input-312-ce68eef32278>:1: SettingWithCopyWarning: \n",
            "A value is trying to be set on a copy of a slice from a DataFrame.\n",
            "Try using .loc[row_indexer,col_indexer] = value instead\n",
            "\n",
            "See the caveats in the documentation: https://pandas.pydata.org/pandas-docs/stable/user_guide/indexing.html#returning-a-view-versus-a-copy\n",
            "  house_df['price_per_sqft_bins'] = house_df['price_per_sqft_bins'].astype(int)\n"
          ]
        }
      ]
    },
    {
      "cell_type": "code",
      "source": [
        "has_nan = house_df['price_per_sqft_bins'].isnull().any()\n",
        "\n",
        "if has_nan:\n",
        "    print(\"The 'feature' column contains NaN values.\")\n",
        "else:\n",
        "    print(\"The 'feature' column does not contain NaN values.\")"
      ],
      "metadata": {
        "id": "I260N4QQml0p",
        "outputId": "ff3bdcc7-bf9e-457b-efe5-27640fdff972",
        "colab": {
          "base_uri": "https://localhost:8080/"
        }
      },
      "execution_count": 313,
      "outputs": [
        {
          "output_type": "stream",
          "name": "stdout",
          "text": [
            "The 'feature' column does not contain NaN values.\n"
          ]
        }
      ]
    },
    {
      "cell_type": "code",
      "source": [
        "#Shuffle rows\n",
        "house_df = house_df.sample(frac=1)"
      ],
      "metadata": {
        "id": "TE0OIImfB1mk"
      },
      "execution_count": 314,
      "outputs": []
    },
    {
      "cell_type": "code",
      "source": [
        "X = house_df[['longitude', 'latitude', 'sqrt_ft', 'price_per_sqft_bins']].to_numpy()"
      ],
      "metadata": {
        "id": "SOArQgFjodZd"
      },
      "execution_count": 315,
      "outputs": []
    },
    {
      "cell_type": "code",
      "source": [
        "# Split the data into training and test sets\n",
        "train_size = int(0.9 * len(X))\n",
        "X_train, y_train = X[:train_size, :], X[:train_size, -1]\n",
        "X_test, y_test = X[train_size:, :], X[train_size:, -1]\n",
        "\n",
        "y_test = y_test.astype(int)\n",
        "y_train = y_train.astype(int)"
      ],
      "metadata": {
        "id": "xuV1h2v5VxVU"
      },
      "execution_count": 316,
      "outputs": []
    },
    {
      "cell_type": "code",
      "source": [
        "# X_train = X_test\n",
        "# y_train = y_test\n",
        "X_train.shape, y_train.shape, X_test.shape, y_test.shape"
      ],
      "metadata": {
        "id": "pUVAWsfd1BOC",
        "outputId": "1ea80f98-d298-408f-ed46-523b88523469",
        "colab": {
          "base_uri": "https://localhost:8080/"
        }
      },
      "execution_count": 317,
      "outputs": [
        {
          "output_type": "execute_result",
          "data": {
            "text/plain": [
              "((4448, 4), (4448,), (495, 4), (495,))"
            ]
          },
          "metadata": {},
          "execution_count": 317
        }
      ]
    },
    {
      "cell_type": "code",
      "source": [
        "X.shape"
      ],
      "metadata": {
        "colab": {
          "base_uri": "https://localhost:8080/"
        },
        "id": "l4tGChnwGuVC",
        "outputId": "fea9d2e7-7cdd-441d-9d2f-134e7b39ebec"
      },
      "execution_count": 318,
      "outputs": [
        {
          "output_type": "execute_result",
          "data": {
            "text/plain": [
              "(4943, 4)"
            ]
          },
          "metadata": {},
          "execution_count": 318
        }
      ]
    },
    {
      "cell_type": "code",
      "source": [
        "class KNNClassifier():\n",
        "\n",
        "  def fit(self, X, y):\n",
        "    self.X = X\n",
        "    self.y = y\n",
        "\n",
        "  def predict(self, X, k, epsilon = 1e-3):\n",
        "    N = len(X)\n",
        "    y_hat = np.zeros(N)\n",
        "\n",
        "    for i in range(N):\n",
        "      # getting list of distances\n",
        "      dist2 = np.sum((self.X - X[i]) ** 2, axis=1)\n",
        "      idxt = np.argsort(dist2)[:k] # the k nearest\n",
        "      # a list of the 1/distances\n",
        "      gamma_k = 1 / (np.sqrt(dist2[idxt]+epsilon))\n",
        "      y_hat[i] = np.bincount(self.y[idxt], weights=gamma_k).argmax()\n",
        "    \n",
        "    return y_hat"
      ],
      "metadata": {
        "id": "JTn_MI7sloa8"
      },
      "execution_count": 319,
      "outputs": []
    },
    {
      "cell_type": "code",
      "source": [
        "\n",
        "# # Normalize the features\n",
        "# X_normalized = X.copy()\n",
        "# X_normalized[:, 0] = X[:, 0] / 180  # longitude range \n",
        "# X_normalized[:, 1] = X[:, 1] / 90 # latitude range\n",
        "\n",
        "# Create an instance of the KNNclassifier\n",
        "knn = KNNClassifier()\n",
        "\n",
        "# Fit the classifier with the training data\n",
        "knn.fit(X_train, y_train)\n",
        "\n",
        "# Choose a suitable value for k (number of neighbors)\n",
        "k = 45\n",
        "\n",
        "# Predict the price category for the test data\n",
        "y_hat = knn.predict(X_test, k)"
      ],
      "metadata": {
        "id": "rU6WdmVDGu6x"
      },
      "execution_count": 320,
      "outputs": []
    },
    {
      "cell_type": "code",
      "source": [
        "# Calculate the accuracy\n",
        "correct_predictions = np.sum(y_test == y_hat)\n",
        "total_predictions = len(y_test)\n",
        "accuracy = correct_predictions / total_predictions\n",
        "\n",
        "print(f\"Accuracy: {accuracy * 100:.2f}%\")"
      ],
      "metadata": {
        "colab": {
          "base_uri": "https://localhost:8080/"
        },
        "id": "tizYtOthHhe-",
        "outputId": "81394f11-09ea-489d-b4b9-2fe60ce7f1d1"
      },
      "execution_count": 321,
      "outputs": [
        {
          "output_type": "stream",
          "name": "stdout",
          "text": [
            "Accuracy: 83.23%\n"
          ]
        }
      ]
    },
    {
      "cell_type": "markdown",
      "source": [
        "## Finding Overvalued/Undervalued Houses"
      ],
      "metadata": {
        "id": "_Ev6aJgzOUdS"
      }
    },
    {
      "cell_type": "code",
      "source": [
        "# Create a dictionary of bin statistics\n",
        "bin_stats = {}\n",
        "for bin_name in house_df['price_per_sqft_bins'].unique():\n",
        "    bin_data = house_df[house_df['price_per_sqft_bins'] == bin_name]\n",
        "    bin_mean = bin_data['price_per_sqft'].mean()\n",
        "    bin_std = bin_data['price_per_sqft'].std()\n",
        "    bin_stats[bin_name] = (bin_mean, bin_std)\n",
        "\n",
        "bin_stats"
      ],
      "metadata": {
        "id": "p-DMej-LxIIi",
        "outputId": "e2e98051-118d-4768-bf88-d3c954f4e985",
        "colab": {
          "base_uri": "https://localhost:8080/"
        }
      },
      "execution_count": 801,
      "outputs": [
        {
          "output_type": "execute_result",
          "data": {
            "text/plain": [
              "{2: (202.37096512965945, 47.05355995720464),\n",
              " 1: (193.1680537195025, 43.209606859636224),\n",
              " 3: (251.8792276656321, 68.38256424028154),\n",
              " 5: (469.3825893001915, 127.43450198150023),\n",
              " 4: (373.52084315368216, 97.69562939505562),\n",
              " 7: (829.6185705972646, 23.35807735556249),\n",
              " 6: (585.047196172563, 197.53019888217793),\n",
              " 8: (911.1044715561297, 53.67277453705526)}"
            ]
          },
          "metadata": {},
          "execution_count": 801
        }
      ]
    },
    {
      "cell_type": "code",
      "source": [],
      "metadata": {
        "id": "xSeNnX6epiYE",
        "outputId": "f1201f63-7f5e-41fb-dc94-c64c192f804a",
        "colab": {
          "base_uri": "https://localhost:8080/"
        }
      },
      "execution_count": 323,
      "outputs": [
        {
          "output_type": "execute_result",
          "data": {
            "text/plain": [
              "Index(['sold_price', 'zipcode', 'longitude', 'latitude', 'lot_acres', 'taxes',\n",
              "       'year_built', 'bedrooms', 'bathrooms', 'sqrt_ft', 'garage',\n",
              "       'fireplaces', 'floor_covering', 'HOA', 'cooking', 'storage', 'cleaning',\n",
              "       'countertop', 'water', 'tile', 'carpet', 'stone', 'other floor',\n",
              "       'price_per_sqft', 'price_per_sqft_bins'],\n",
              "      dtype='object')"
            ]
          },
          "metadata": {},
          "execution_count": 323
        }
      ]
    },
    {
      "cell_type": "code",
      "source": [],
      "metadata": {
        "id": "DERy8HJ5pKwc"
      },
      "execution_count": 800,
      "outputs": []
    },
    {
      "cell_type": "code",
      "source": [
        "# house_df = house_df.sample(frac=1)"
      ],
      "metadata": {
        "id": "XHhLsPphrVTR"
      },
      "execution_count": 325,
      "outputs": []
    },
    {
      "cell_type": "code",
      "source": [
        "def OLS(Y,Y_hat,N):\n",
        "  return (1/(2*N)*np.sum((Y-Y_hat)**2))"
      ],
      "metadata": {
        "id": "N1BlvfY2qT5k"
      },
      "execution_count": 424,
      "outputs": []
    },
    {
      "cell_type": "code",
      "source": [
        "def R2(Y,Y_hat,):\n",
        "  return (1-(np.sum((Y-Y_hat)**2) / np.sum((Y-np.mean(Y))**2)))"
      ],
      "metadata": {
        "id": "hYD7SuGhq1j_"
      },
      "execution_count": 425,
      "outputs": []
    },
    {
      "cell_type": "code",
      "source": [
        "class MVLinearRegression():\n",
        "  def fit(self, X, y, eta = 1e-3, epochs = 1e3, show_curve = False):\n",
        "    epochs = int(epochs)\n",
        "    N, D = X.shape\n",
        "    Y = y\n",
        "    \n",
        "    #Initialize the weights\n",
        "    self.W = np.random.randn(D)\n",
        "\n",
        "    J = np.zeros(epochs)\n",
        "    \n",
        "    for epoch in range(epochs):\n",
        "      Y_hat = self.predict(X)\n",
        "      J[epoch] = OLS(Y, Y_hat, N)\n",
        "      #weight update Rule:\n",
        "      self.W -= eta*(1/N)*(X.T@(Y_hat-Y))\n",
        "\n",
        "    if show_curve:\n",
        "      plt.figure()\n",
        "      plt.plot(J)\n",
        "      plt.xlabel(\"epochs\")\n",
        "      plt.ylabel(\"$\\mathcal{J}$\")\n",
        "      plt.title(\"Training Curve\")\n",
        "      plt.show()\n",
        "\n",
        "  def predict(self,X):\n",
        "    return X @ self.W\n",
        "    "
      ],
      "metadata": {
        "id": "oJIx1cAVrEOu"
      },
      "execution_count": 426,
      "outputs": []
    },
    {
      "cell_type": "code",
      "source": [
        "myReg = MVLinearRegression()"
      ],
      "metadata": {
        "id": "VY8G8zF8q6bU"
      },
      "execution_count": 427,
      "outputs": []
    },
    {
      "cell_type": "code",
      "source": [
        "house_df.reset_index(drop=True, inplace=True)"
      ],
      "metadata": {
        "id": "3h_u4fgpCTmh"
      },
      "execution_count": 428,
      "outputs": []
    },
    {
      "cell_type": "code",
      "source": [
        "house_df.shape"
      ],
      "metadata": {
        "id": "nU7fQGaDC9zj",
        "outputId": "364deb2a-ba83-45b0-f7d2-2750518dc64c",
        "colab": {
          "base_uri": "https://localhost:8080/"
        }
      },
      "execution_count": 465,
      "outputs": [
        {
          "output_type": "execute_result",
          "data": {
            "text/plain": [
              "(4943, 25)"
            ]
          },
          "metadata": {},
          "execution_count": 465
        }
      ]
    },
    {
      "cell_type": "code",
      "source": [
        "# X1 = house_df[['longitude', 'latitude', 'sqrt_ft', 'price_per_sqft_bins', 'price_per_sqft']].copy()"
      ],
      "metadata": {
        "id": "4b07FqxXpv7Z"
      },
      "execution_count": 464,
      "outputs": []
    },
    {
      "cell_type": "code",
      "source": [
        "# X1.describe()"
      ],
      "metadata": {
        "id": "VqN3AQIbDyIQ",
        "outputId": "51497cc9-d78e-45bd-a5fe-57ebe70b93e3",
        "colab": {
          "base_uri": "https://localhost:8080/",
          "height": 300
        }
      },
      "execution_count": 447,
      "outputs": [
        {
          "output_type": "execute_result",
          "data": {
            "text/plain": [
              "         longitude     latitude       sqrt_ft  price_per_sqft_bins  \\\n",
              "count  4943.000000  4943.000000   4943.000000          4943.000000   \n",
              "mean   -110.910941    32.314728   3716.245317             2.108638   \n",
              "std       0.120616     0.168881   1120.764320             0.570178   \n",
              "min    -112.520168    31.356362   1100.000000             1.000000   \n",
              "25%    -110.978610    32.280308   3047.000000             2.000000   \n",
              "50%    -110.922473    32.319138   3512.000000             2.000000   \n",
              "75%    -110.858570    32.396151   4129.000000             2.000000   \n",
              "max    -109.454637    34.927884  22408.000000             8.000000   \n",
              "\n",
              "       price_per_sqft  \n",
              "count     4943.000000  \n",
              "mean       212.549120  \n",
              "std         66.719361  \n",
              "min         24.544805  \n",
              "25%        175.535883  \n",
              "50%        202.603401  \n",
              "75%        234.103862  \n",
              "max       1208.333333  "
            ],
            "text/html": [
              "\n",
              "  <div id=\"df-4164eb60-c628-4f72-adf9-d57c9fa96442\">\n",
              "    <div class=\"colab-df-container\">\n",
              "      <div>\n",
              "<style scoped>\n",
              "    .dataframe tbody tr th:only-of-type {\n",
              "        vertical-align: middle;\n",
              "    }\n",
              "\n",
              "    .dataframe tbody tr th {\n",
              "        vertical-align: top;\n",
              "    }\n",
              "\n",
              "    .dataframe thead th {\n",
              "        text-align: right;\n",
              "    }\n",
              "</style>\n",
              "<table border=\"1\" class=\"dataframe\">\n",
              "  <thead>\n",
              "    <tr style=\"text-align: right;\">\n",
              "      <th></th>\n",
              "      <th>longitude</th>\n",
              "      <th>latitude</th>\n",
              "      <th>sqrt_ft</th>\n",
              "      <th>price_per_sqft_bins</th>\n",
              "      <th>price_per_sqft</th>\n",
              "    </tr>\n",
              "  </thead>\n",
              "  <tbody>\n",
              "    <tr>\n",
              "      <th>count</th>\n",
              "      <td>4943.000000</td>\n",
              "      <td>4943.000000</td>\n",
              "      <td>4943.000000</td>\n",
              "      <td>4943.000000</td>\n",
              "      <td>4943.000000</td>\n",
              "    </tr>\n",
              "    <tr>\n",
              "      <th>mean</th>\n",
              "      <td>-110.910941</td>\n",
              "      <td>32.314728</td>\n",
              "      <td>3716.245317</td>\n",
              "      <td>2.108638</td>\n",
              "      <td>212.549120</td>\n",
              "    </tr>\n",
              "    <tr>\n",
              "      <th>std</th>\n",
              "      <td>0.120616</td>\n",
              "      <td>0.168881</td>\n",
              "      <td>1120.764320</td>\n",
              "      <td>0.570178</td>\n",
              "      <td>66.719361</td>\n",
              "    </tr>\n",
              "    <tr>\n",
              "      <th>min</th>\n",
              "      <td>-112.520168</td>\n",
              "      <td>31.356362</td>\n",
              "      <td>1100.000000</td>\n",
              "      <td>1.000000</td>\n",
              "      <td>24.544805</td>\n",
              "    </tr>\n",
              "    <tr>\n",
              "      <th>25%</th>\n",
              "      <td>-110.978610</td>\n",
              "      <td>32.280308</td>\n",
              "      <td>3047.000000</td>\n",
              "      <td>2.000000</td>\n",
              "      <td>175.535883</td>\n",
              "    </tr>\n",
              "    <tr>\n",
              "      <th>50%</th>\n",
              "      <td>-110.922473</td>\n",
              "      <td>32.319138</td>\n",
              "      <td>3512.000000</td>\n",
              "      <td>2.000000</td>\n",
              "      <td>202.603401</td>\n",
              "    </tr>\n",
              "    <tr>\n",
              "      <th>75%</th>\n",
              "      <td>-110.858570</td>\n",
              "      <td>32.396151</td>\n",
              "      <td>4129.000000</td>\n",
              "      <td>2.000000</td>\n",
              "      <td>234.103862</td>\n",
              "    </tr>\n",
              "    <tr>\n",
              "      <th>max</th>\n",
              "      <td>-109.454637</td>\n",
              "      <td>34.927884</td>\n",
              "      <td>22408.000000</td>\n",
              "      <td>8.000000</td>\n",
              "      <td>1208.333333</td>\n",
              "    </tr>\n",
              "  </tbody>\n",
              "</table>\n",
              "</div>\n",
              "      <button class=\"colab-df-convert\" onclick=\"convertToInteractive('df-4164eb60-c628-4f72-adf9-d57c9fa96442')\"\n",
              "              title=\"Convert this dataframe to an interactive table.\"\n",
              "              style=\"display:none;\">\n",
              "        \n",
              "  <svg xmlns=\"http://www.w3.org/2000/svg\" height=\"24px\"viewBox=\"0 0 24 24\"\n",
              "       width=\"24px\">\n",
              "    <path d=\"M0 0h24v24H0V0z\" fill=\"none\"/>\n",
              "    <path d=\"M18.56 5.44l.94 2.06.94-2.06 2.06-.94-2.06-.94-.94-2.06-.94 2.06-2.06.94zm-11 1L8.5 8.5l.94-2.06 2.06-.94-2.06-.94L8.5 2.5l-.94 2.06-2.06.94zm10 10l.94 2.06.94-2.06 2.06-.94-2.06-.94-.94-2.06-.94 2.06-2.06.94z\"/><path d=\"M17.41 7.96l-1.37-1.37c-.4-.4-.92-.59-1.43-.59-.52 0-1.04.2-1.43.59L10.3 9.45l-7.72 7.72c-.78.78-.78 2.05 0 2.83L4 21.41c.39.39.9.59 1.41.59.51 0 1.02-.2 1.41-.59l7.78-7.78 2.81-2.81c.8-.78.8-2.07 0-2.86zM5.41 20L4 18.59l7.72-7.72 1.47 1.35L5.41 20z\"/>\n",
              "  </svg>\n",
              "      </button>\n",
              "      \n",
              "  <style>\n",
              "    .colab-df-container {\n",
              "      display:flex;\n",
              "      flex-wrap:wrap;\n",
              "      gap: 12px;\n",
              "    }\n",
              "\n",
              "    .colab-df-convert {\n",
              "      background-color: #E8F0FE;\n",
              "      border: none;\n",
              "      border-radius: 50%;\n",
              "      cursor: pointer;\n",
              "      display: none;\n",
              "      fill: #1967D2;\n",
              "      height: 32px;\n",
              "      padding: 0 0 0 0;\n",
              "      width: 32px;\n",
              "    }\n",
              "\n",
              "    .colab-df-convert:hover {\n",
              "      background-color: #E2EBFA;\n",
              "      box-shadow: 0px 1px 2px rgba(60, 64, 67, 0.3), 0px 1px 3px 1px rgba(60, 64, 67, 0.15);\n",
              "      fill: #174EA6;\n",
              "    }\n",
              "\n",
              "    [theme=dark] .colab-df-convert {\n",
              "      background-color: #3B4455;\n",
              "      fill: #D2E3FC;\n",
              "    }\n",
              "\n",
              "    [theme=dark] .colab-df-convert:hover {\n",
              "      background-color: #434B5C;\n",
              "      box-shadow: 0px 1px 3px 1px rgba(0, 0, 0, 0.15);\n",
              "      filter: drop-shadow(0px 1px 2px rgba(0, 0, 0, 0.3));\n",
              "      fill: #FFFFFF;\n",
              "    }\n",
              "  </style>\n",
              "\n",
              "      <script>\n",
              "        const buttonEl =\n",
              "          document.querySelector('#df-4164eb60-c628-4f72-adf9-d57c9fa96442 button.colab-df-convert');\n",
              "        buttonEl.style.display =\n",
              "          google.colab.kernel.accessAllowed ? 'block' : 'none';\n",
              "\n",
              "        async function convertToInteractive(key) {\n",
              "          const element = document.querySelector('#df-4164eb60-c628-4f72-adf9-d57c9fa96442');\n",
              "          const dataTable =\n",
              "            await google.colab.kernel.invokeFunction('convertToInteractive',\n",
              "                                                     [key], {});\n",
              "          if (!dataTable) return;\n",
              "\n",
              "          const docLinkHtml = 'Like what you see? Visit the ' +\n",
              "            '<a target=\"_blank\" href=https://colab.research.google.com/notebooks/data_table.ipynb>data table notebook</a>'\n",
              "            + ' to learn more about interactive tables.';\n",
              "          element.innerHTML = '';\n",
              "          dataTable['output_type'] = 'display_data';\n",
              "          await google.colab.output.renderOutput(dataTable, element);\n",
              "          const docLink = document.createElement('div');\n",
              "          docLink.innerHTML = docLinkHtml;\n",
              "          element.appendChild(docLink);\n",
              "        }\n",
              "      </script>\n",
              "    </div>\n",
              "  </div>\n",
              "  "
            ]
          },
          "metadata": {},
          "execution_count": 447
        }
      ]
    },
    {
      "cell_type": "code",
      "source": [
        "house_df.columns"
      ],
      "metadata": {
        "id": "ksilItzRWijA",
        "outputId": "a34f9d34-87f0-48e4-fd8c-6f261dbd9348",
        "colab": {
          "base_uri": "https://localhost:8080/"
        }
      },
      "execution_count": 852,
      "outputs": [
        {
          "output_type": "execute_result",
          "data": {
            "text/plain": [
              "Index(['sold_price', 'zipcode', 'longitude', 'latitude', 'lot_acres', 'taxes',\n",
              "       'year_built', 'bedrooms', 'bathrooms', 'sqrt_ft', 'garage',\n",
              "       'fireplaces', 'floor_covering', 'HOA', 'cooking', 'storage', 'cleaning',\n",
              "       'countertop', 'water', 'tile', 'carpet', 'stone', 'other floor',\n",
              "       'price_per_sqft', 'price_per_sqft_bins'],\n",
              "      dtype='object')"
            ]
          },
          "metadata": {},
          "execution_count": 852
        }
      ]
    },
    {
      "cell_type": "code",
      "source": [
        "import seaborn as sns\n",
        "import matplotlib.pyplot as plt\n",
        "\n",
        "corr = house_df.corr()\n",
        "plt.figure(figsize=(20,16))\n",
        "sns.heatmap(corr, annot=True, cmap='coolwarm')\n",
        "plt.show()"
      ],
      "metadata": {
        "id": "ErK4yNPkvCcP",
        "outputId": "31a89351-4ab3-4ea2-a75d-9aa7f2281096",
        "colab": {
          "base_uri": "https://localhost:8080/",
          "height": 1000
        }
      },
      "execution_count": 853,
      "outputs": [
        {
          "output_type": "display_data",
          "data": {
            "text/plain": [
              "<Figure size 1440x1152 with 2 Axes>"
            ],
            "image/png": "[encoded data removed]"
          },
          "metadata": {
            "needs_background": "light"
          }
        }
      ]
    },
    {
      "cell_type": "code",
      "source": [
        "X1 = house_df[['longitude', 'latitude','bedrooms', 'sqrt_ft','HOA','price_per_sqft']].copy()"
      ],
      "metadata": {
        "id": "cV2xNGfCzIzD"
      },
      "execution_count": 891,
      "outputs": []
    },
    {
      "cell_type": "code",
      "source": [
        "X1.to_numpy()"
      ],
      "metadata": {
        "id": "ZI1g2aGTNxuE",
        "outputId": "56f72bbb-5edc-4316-970c-ddd160d38445",
        "colab": {
          "base_uri": "https://localhost:8080/"
        }
      },
      "execution_count": 892,
      "outputs": [
        {
          "output_type": "execute_result",
          "data": {
            "text/plain": [
              "array([[-1.10982174e+02,  3.24330110e+01,  4.00000000e+00,\n",
              "         3.08400000e+03,  1.20000000e+01,  1.76303502e+02],\n",
              "       [-1.10731555e+02,  3.22941310e+01,  4.00000000e+00,\n",
              "         3.45000000e+03,  0.00000000e+00,  1.94492754e+02],\n",
              "       [-1.10795109e+02,  3.22556740e+01,  5.00000000e+00,\n",
              "         4.36400000e+03,  1.49000000e+02,  1.45508708e+02],\n",
              "       ...,\n",
              "       [-1.10729025e+02,  3.22632740e+01,  4.00000000e+00,\n",
              "         3.53300000e+03,  1.70000000e+01,  1.82422870e+02],\n",
              "       [-1.10871894e+02,  3.23120910e+01,  5.00000000e+00,\n",
              "         3.71000000e+03,  4.40000000e+01,  2.39757412e+02],\n",
              "       [-1.10967634e+02,  3.24074590e+01,  4.00000000e+00,\n",
              "         3.06000000e+03,  0.00000000e+00,  2.12418301e+02]])"
            ]
          },
          "metadata": {},
          "execution_count": 892
        }
      ]
    },
    {
      "cell_type": "code",
      "source": [
        "# Define a function to normalize a feature\n",
        "def normalize_feature(feature):\n",
        "    min_val = np.min(feature)\n",
        "    max_val = np.max(feature)\n",
        "    normalized_feature = (feature - min_val) / (max_val - min_val)\n",
        "    return normalized_feature\n",
        "\n",
        "# Normalize each feature in X1\n",
        "X1_normalized = X1.copy()\n",
        "X1_normalized['longitude'] = normalize_feature(X1_normalized['longitude'])\n",
        "X1_normalized['latitude'] = normalize_feature(X1_normalized['latitude'])\n",
        "X1_normalized['bedrooms'] = normalize_feature(X1_normalized['bedrooms'])\n",
        "X1_normalized['sqrt_ft'] = normalize_feature(X1_normalized['sqrt_ft'])\n",
        "X1_normalized['HOA'] = normalize_feature(X1_normalized['HOA'])\n",
        "X1_normalized['price_per_sqft'] = normalize_feature(X1_normalized['price_per_sqft'])"
      ],
      "metadata": {
        "id": "RseLsvZWQOAd"
      },
      "execution_count": 893,
      "outputs": []
    },
    {
      "cell_type": "code",
      "source": [
        "# X1['longitude'] = (X1['longitude'] - 180) / 180\n",
        "# X1['latitude'] = (X1['latitude'] - 90) / 90\n",
        "X1_normalized.to_numpy()"
      ],
      "metadata": {
        "id": "00zBDVVCYofo",
        "outputId": "239ea073-9f03-4559-d093-27f575fd83b0",
        "colab": {
          "base_uri": "https://localhost:8080/"
        }
      },
      "execution_count": 894,
      "outputs": [
        {
          "output_type": "execute_result",
          "data": {
            "text/plain": [
              "array([[0.50170558, 0.30145383, 0.08571429, 0.09311057, 0.0006    ,\n",
              "        0.12819747],\n",
              "       [0.58345944, 0.26256845, 0.08571429, 0.11028722, 0.        ,\n",
              "        0.14356276],\n",
              "       [0.56272763, 0.25180077, 0.11428571, 0.1531819 , 0.00745   ,\n",
              "        0.10218371],\n",
              "       ...,\n",
              "       [0.58428475, 0.25392872, 0.08571429, 0.11418247, 0.00085   ,\n",
              "        0.13336678],\n",
              "       [0.53767977, 0.26759712, 0.11428571, 0.12248921, 0.0022    ,\n",
              "        0.18179988],\n",
              "       [0.50644864, 0.29429946, 0.08571429, 0.09198423, 0.        ,\n",
              "        0.15870528]])"
            ]
          },
          "metadata": {},
          "execution_count": 894
        }
      ]
    },
    {
      "cell_type": "code",
      "source": [
        "# Define the train-test split ratio\n",
        "X1_normalized = X1_normalized.sample(frac=1)\n",
        "# Split the data into training and test sets\n",
        "train_size = int(0.9 * len(X1_normalized))\n",
        "\n",
        "X_train, y_train = X1_normalized.iloc[:train_size,:-1], X1_normalized.iloc[:train_size, -1]\n",
        "X_test, y_test = X1_normalized.iloc[train_size:, :-1], X1_normalized.iloc[train_size:, -1]\n",
        "\n",
        "X_train = X_train.to_numpy()\n",
        "y_train = y_train.to_numpy()\n",
        "X_test = X_test.to_numpy()\n",
        "y_test = y_test.to_numpy()"
      ],
      "metadata": {
        "id": "pSjDOorQGsov"
      },
      "execution_count": 905,
      "outputs": []
    },
    {
      "cell_type": "code",
      "source": [
        "myReg.fit(X_train,y_train, epochs=25000, eta=1, show_curve=True)"
      ],
      "metadata": {
        "id": "77KKCcsUz0Yj",
        "outputId": "88fda1fa-e656-4885-f853-20ae455853be",
        "colab": {
          "base_uri": "https://localhost:8080/",
          "height": 295
        }
      },
      "execution_count": 906,
      "outputs": [
        {
          "output_type": "display_data",
          "data": {
            "text/plain": [
              "<Figure size 432x288 with 1 Axes>"
            ],
            "image/png": "[encoded data removed]"
          },
          "metadata": {
            "needs_background": "light"
          }
        }
      ]
    },
    {
      "cell_type": "code",
      "source": [
        "Y_hat = myReg.predict(X_test)"
      ],
      "metadata": {
        "id": "1i-mQW51z9iz"
      },
      "execution_count": 907,
      "outputs": []
    },
    {
      "cell_type": "code",
      "source": [
        "def R2(Y,Y_hat,):\n",
        "  return (1-(np.sum((Y-Y_hat)**2) / np.sum((Y-np.mean(Y))**2)))"
      ],
      "metadata": {
        "id": "Tef57GNK0WoS"
      },
      "execution_count": 908,
      "outputs": []
    },
    {
      "cell_type": "code",
      "source": [
        "R2(y_test,Y_hat)"
      ],
      "metadata": {
        "id": "yyZSTuGC0lXe",
        "outputId": "15d92846-8b6a-4926-e6c0-2548ac242689",
        "colab": {
          "base_uri": "https://localhost:8080/"
        }
      },
      "execution_count": 909,
      "outputs": [
        {
          "output_type": "execute_result",
          "data": {
            "text/plain": [
              "0.18531493894835516"
            ]
          },
          "metadata": {},
          "execution_count": 909
        }
      ]
    },
    {
      "cell_type": "code",
      "source": [
        "# Define a threshold z-score value for undervalued houses\n",
        "threshold = -1\n",
        "\n",
        "# Create a dictionary of bin statistics\n",
        "bin_stats = {}\n",
        "for bin_name in house_df['price_per_sqft_bins'].unique():\n",
        "    bin_data = house_df[house_df['price_per_sqft_bins'] == bin_name]\n",
        "    bin_mean = bin_data['price_per_sqft'].mean()\n",
        "    bin_std = bin_data['price_per_sqft'].std()\n",
        "    bin_stats[bin_name] = (bin_mean, bin_std)\n",
        "\n",
        "# Calculate the z-score for each house\n",
        "z_scores = []\n",
        "for i in range(len(house_df)):\n",
        "    bin_name = house_df.iloc[i]['price_per_sqft_bins']\n",
        "    house_price_per_sqft = house_df.iloc[i]['price_per_sqft']\n",
        "    house_mean, house_std = bin_stats[bin_name]\n",
        "    z_score = (house_price_per_sqft - house_mean) / house_std\n",
        "    z_scores.append(z_score)\n",
        "\n",
        "# Classify the houses as undervalued, overvalued, or well-valued based on the z-score\n",
        "house_df['valuation'] = np.where(np.array(z_scores) < threshold, 'undervalued', 'well-valued')"
      ],
      "metadata": {
        "id": "WsE71iTdRYIv"
      },
      "execution_count": 910,
      "outputs": []
    },
    {
      "cell_type": "code",
      "source": [
        "# z_scores\n",
        "house_df['valuation']"
      ],
      "metadata": {
        "id": "CQRuIEaUREWt",
        "outputId": "d9fb5747-bad6-41d1-d1c5-34368fb379c2",
        "colab": {
          "base_uri": "https://localhost:8080/"
        }
      },
      "execution_count": 933,
      "outputs": [
        {
          "output_type": "execute_result",
          "data": {
            "text/plain": [
              "0       well-valued\n",
              "1       well-valued\n",
              "2       undervalued\n",
              "3       well-valued\n",
              "4       well-valued\n",
              "           ...     \n",
              "4938    well-valued\n",
              "4939    well-valued\n",
              "4940    well-valued\n",
              "4941    well-valued\n",
              "4942    well-valued\n",
              "Name: valuation, Length: 4943, dtype: object"
            ]
          },
          "metadata": {},
          "execution_count": 933
        }
      ]
    },
    {
      "cell_type": "code",
      "source": [
        "# Initialize an empty dataframe to store undervalued houses\n",
        "undervalued_df = pd.DataFrame(columns=house_df.columns)\n",
        "\n",
        "# Iterate over each unique price_per_sqft_bins category\n",
        "for bin_name in house_df['price_per_sqft_bins'].unique():\n",
        "    # Get the mean and standard deviation for this category\n",
        "    bin_mean, bin_std = bin_stats[bin_name]\n",
        "    # Get all houses in this category\n",
        "    bin_data = house_df[house_df['price_per_sqft_bins'] == bin_name]\n",
        "    # Calculate the lower bound for the bin\n",
        "    lower_bound = bin_mean - bin_std\n",
        "    # Identify undervalued houses in this bin\n",
        "    undervalued_data = bin_data[bin_data['price_per_sqft'] < lower_bound]\n",
        "    # Append undervalued houses to the dataframe\n",
        "    undervalued_df = pd.concat([undervalued_df, undervalued_data], ignore_index=True)\n"
      ],
      "metadata": {
        "id": "TJ4yx609R6iM"
      },
      "execution_count": 913,
      "outputs": []
    },
    {
      "cell_type": "code",
      "source": [
        "undervalued_df"
      ],
      "metadata": {
        "id": "dWrGeyZ11Dhz",
        "outputId": "874a17ac-b42f-4686-8026-b7b6e53f2568",
        "colab": {
          "base_uri": "https://localhost:8080/",
          "height": 505
        }
      },
      "execution_count": 914,
      "outputs": [
        {
          "output_type": "execute_result",
          "data": {
            "text/plain": [
              "     sold_price zipcode   longitude   latitude  lot_acres     taxes  \\\n",
              "0      635000.0   85749 -110.795109  32.255674       0.61   6535.00   \n",
              "1      455000.0   85718 -110.931769  32.326575       1.12   4361.00   \n",
              "2      550000.0   85716 -110.928964  32.232588       0.31   7537.01   \n",
              "3      799000.0   85704 -110.984526  32.335054       0.87   6176.80   \n",
              "4      615000.0   85718 -110.925844  32.290874       3.61  10548.61   \n",
              "..          ...     ...         ...        ...        ...       ...   \n",
              "593   1325000.0   85750 -110.862068  32.332178       1.47  12368.25   \n",
              "594    927500.0   85750 -110.813642  32.298738       1.46   8372.64   \n",
              "595   1000000.0   85750 -110.867130  32.328752       0.80  11642.96   \n",
              "596   2150000.0   85739 -110.883660  32.509721       0.00  19060.81   \n",
              "597    921500.0   85718 -110.948344  32.343905       1.23  10722.61   \n",
              "\n",
              "    year_built bedrooms  bathrooms  sqrt_ft  ...  cleaning  countertop  water  \\\n",
              "0         1996        5        5.0   4364.0  ...      True       False  False   \n",
              "1         1979        4        3.0   3239.0  ...      True       False  False   \n",
              "2         1947        8        6.0   3819.0  ...      True       False  False   \n",
              "3         1975        5        5.0   5665.0  ...      True       False  False   \n",
              "4         1973        5        5.0   4399.0  ...      True       False  False   \n",
              "..         ...      ...        ...      ...  ...       ...         ...    ...   \n",
              "593       2000        4        5.0   4872.0  ...      True       False  False   \n",
              "594       2007        4        4.0   3525.0  ...      True        True  False   \n",
              "595       2002        4        5.0   5722.0  ...      True        True  False   \n",
              "596       2008        2        3.0   2729.0  ...      True       False  False   \n",
              "597       2002        5        5.0   3861.0  ...      True        True  False   \n",
              "\n",
              "      tile carpet  stone other floor price_per_sqft price_per_sqft_bins  \\\n",
              "0    False   True  False       False     145.508708                   2   \n",
              "1    False   True  False       False     140.475455                   2   \n",
              "2    False   True  False       False     144.016758                   2   \n",
              "3    False   True  False       False     141.041483                   2   \n",
              "4    False   True  False        True     139.804501                   2   \n",
              "..     ...    ...    ...         ...            ...                 ...   \n",
              "593  False   True  False       False     271.962233                   4   \n",
              "594  False  False  False       False     263.120567                   4   \n",
              "595  False   True  False        True     174.764069                   4   \n",
              "596  False  False  False        True     787.834372                   7   \n",
              "597  False   True  False       False     238.668739                   6   \n",
              "\n",
              "       valuation  \n",
              "0    undervalued  \n",
              "1    undervalued  \n",
              "2    undervalued  \n",
              "3    undervalued  \n",
              "4    undervalued  \n",
              "..           ...  \n",
              "593  undervalued  \n",
              "594  undervalued  \n",
              "595  undervalued  \n",
              "596  undervalued  \n",
              "597  undervalued  \n",
              "\n",
              "[598 rows x 26 columns]"
            ],
            "text/html": [
              "\n",
              "  <div id=\"df-ded1119e-f6fc-4dd9-a6da-456c42cefc76\">\n",
              "    <div class=\"colab-df-container\">\n",
              "      <div>\n",
              "<style scoped>\n",
              "    .dataframe tbody tr th:only-of-type {\n",
              "        vertical-align: middle;\n",
              "    }\n",
              "\n",
              "    .dataframe tbody tr th {\n",
              "        vertical-align: top;\n",
              "    }\n",
              "\n",
              "    .dataframe thead th {\n",
              "        text-align: right;\n",
              "    }\n",
              "</style>\n",
              "<table border=\"1\" class=\"dataframe\">\n",
              "  <thead>\n",
              "    <tr style=\"text-align: right;\">\n",
              "      <th></th>\n",
              "      <th>sold_price</th>\n",
              "      <th>zipcode</th>\n",
              "      <th>longitude</th>\n",
              "      <th>latitude</th>\n",
              "      <th>lot_acres</th>\n",
              "      <th>taxes</th>\n",
              "      <th>year_built</th>\n",
              "      <th>bedrooms</th>\n",
              "      <th>bathrooms</th>\n",
              "      <th>sqrt_ft</th>\n",
              "      <th>...</th>\n",
              "      <th>cleaning</th>\n",
              "      <th>countertop</th>\n",
              "      <th>water</th>\n",
              "      <th>tile</th>\n",
              "      <th>carpet</th>\n",
              "      <th>stone</th>\n",
              "      <th>other floor</th>\n",
              "      <th>price_per_sqft</th>\n",
              "      <th>price_per_sqft_bins</th>\n",
              "      <th>valuation</th>\n",
              "    </tr>\n",
              "  </thead>\n",
              "  <tbody>\n",
              "    <tr>\n",
              "      <th>0</th>\n",
              "      <td>635000.0</td>\n",
              "      <td>85749</td>\n",
              "      <td>-110.795109</td>\n",
              "      <td>32.255674</td>\n",
              "      <td>0.61</td>\n",
              "      <td>6535.00</td>\n",
              "      <td>1996</td>\n",
              "      <td>5</td>\n",
              "      <td>5.0</td>\n",
              "      <td>4364.0</td>\n",
              "      <td>...</td>\n",
              "      <td>True</td>\n",
              "      <td>False</td>\n",
              "      <td>False</td>\n",
              "      <td>False</td>\n",
              "      <td>True</td>\n",
              "      <td>False</td>\n",
              "      <td>False</td>\n",
              "      <td>145.508708</td>\n",
              "      <td>2</td>\n",
              "      <td>undervalued</td>\n",
              "    </tr>\n",
              "    <tr>\n",
              "      <th>1</th>\n",
              "      <td>455000.0</td>\n",
              "      <td>85718</td>\n",
              "      <td>-110.931769</td>\n",
              "      <td>32.326575</td>\n",
              "      <td>1.12</td>\n",
              "      <td>4361.00</td>\n",
              "      <td>1979</td>\n",
              "      <td>4</td>\n",
              "      <td>3.0</td>\n",
              "      <td>3239.0</td>\n",
              "      <td>...</td>\n",
              "      <td>True</td>\n",
              "      <td>False</td>\n",
              "      <td>False</td>\n",
              "      <td>False</td>\n",
              "      <td>True</td>\n",
              "      <td>False</td>\n",
              "      <td>False</td>\n",
              "      <td>140.475455</td>\n",
              "      <td>2</td>\n",
              "      <td>undervalued</td>\n",
              "    </tr>\n",
              "    <tr>\n",
              "      <th>2</th>\n",
              "      <td>550000.0</td>\n",
              "      <td>85716</td>\n",
              "      <td>-110.928964</td>\n",
              "      <td>32.232588</td>\n",
              "      <td>0.31</td>\n",
              "      <td>7537.01</td>\n",
              "      <td>1947</td>\n",
              "      <td>8</td>\n",
              "      <td>6.0</td>\n",
              "      <td>3819.0</td>\n",
              "      <td>...</td>\n",
              "      <td>True</td>\n",
              "      <td>False</td>\n",
              "      <td>False</td>\n",
              "      <td>False</td>\n",
              "      <td>True</td>\n",
              "      <td>False</td>\n",
              "      <td>False</td>\n",
              "      <td>144.016758</td>\n",
              "      <td>2</td>\n",
              "      <td>undervalued</td>\n",
              "    </tr>\n",
              "    <tr>\n",
              "      <th>3</th>\n",
              "      <td>799000.0</td>\n",
              "      <td>85704</td>\n",
              "      <td>-110.984526</td>\n",
              "      <td>32.335054</td>\n",
              "      <td>0.87</td>\n",
              "      <td>6176.80</td>\n",
              "      <td>1975</td>\n",
              "      <td>5</td>\n",
              "      <td>5.0</td>\n",
              "      <td>5665.0</td>\n",
              "      <td>...</td>\n",
              "      <td>True</td>\n",
              "      <td>False</td>\n",
              "      <td>False</td>\n",
              "      <td>False</td>\n",
              "      <td>True</td>\n",
              "      <td>False</td>\n",
              "      <td>False</td>\n",
              "      <td>141.041483</td>\n",
              "      <td>2</td>\n",
              "      <td>undervalued</td>\n",
              "    </tr>\n",
              "    <tr>\n",
              "      <th>4</th>\n",
              "      <td>615000.0</td>\n",
              "      <td>85718</td>\n",
              "      <td>-110.925844</td>\n",
              "      <td>32.290874</td>\n",
              "      <td>3.61</td>\n",
              "      <td>10548.61</td>\n",
              "      <td>1973</td>\n",
              "      <td>5</td>\n",
              "      <td>5.0</td>\n",
              "      <td>4399.0</td>\n",
              "      <td>...</td>\n",
              "      <td>True</td>\n",
              "      <td>False</td>\n",
              "      <td>False</td>\n",
              "      <td>False</td>\n",
              "      <td>True</td>\n",
              "      <td>False</td>\n",
              "      <td>True</td>\n",
              "      <td>139.804501</td>\n",
              "      <td>2</td>\n",
              "      <td>undervalued</td>\n",
              "    </tr>\n",
              "    <tr>\n",
              "      <th>...</th>\n",
              "      <td>...</td>\n",
              "      <td>...</td>\n",
              "      <td>...</td>\n",
              "      <td>...</td>\n",
              "      <td>...</td>\n",
              "      <td>...</td>\n",
              "      <td>...</td>\n",
              "      <td>...</td>\n",
              "      <td>...</td>\n",
              "      <td>...</td>\n",
              "      <td>...</td>\n",
              "      <td>...</td>\n",
              "      <td>...</td>\n",
              "      <td>...</td>\n",
              "      <td>...</td>\n",
              "      <td>...</td>\n",
              "      <td>...</td>\n",
              "      <td>...</td>\n",
              "      <td>...</td>\n",
              "      <td>...</td>\n",
              "      <td>...</td>\n",
              "    </tr>\n",
              "    <tr>\n",
              "      <th>593</th>\n",
              "      <td>1325000.0</td>\n",
              "      <td>85750</td>\n",
              "      <td>-110.862068</td>\n",
              "      <td>32.332178</td>\n",
              "      <td>1.47</td>\n",
              "      <td>12368.25</td>\n",
              "      <td>2000</td>\n",
              "      <td>4</td>\n",
              "      <td>5.0</td>\n",
              "      <td>4872.0</td>\n",
              "      <td>...</td>\n",
              "      <td>True</td>\n",
              "      <td>False</td>\n",
              "      <td>False</td>\n",
              "      <td>False</td>\n",
              "      <td>True</td>\n",
              "      <td>False</td>\n",
              "      <td>False</td>\n",
              "      <td>271.962233</td>\n",
              "      <td>4</td>\n",
              "      <td>undervalued</td>\n",
              "    </tr>\n",
              "    <tr>\n",
              "      <th>594</th>\n",
              "      <td>927500.0</td>\n",
              "      <td>85750</td>\n",
              "      <td>-110.813642</td>\n",
              "      <td>32.298738</td>\n",
              "      <td>1.46</td>\n",
              "      <td>8372.64</td>\n",
              "      <td>2007</td>\n",
              "      <td>4</td>\n",
              "      <td>4.0</td>\n",
              "      <td>3525.0</td>\n",
              "      <td>...</td>\n",
              "      <td>True</td>\n",
              "      <td>True</td>\n",
              "      <td>False</td>\n",
              "      <td>False</td>\n",
              "      <td>False</td>\n",
              "      <td>False</td>\n",
              "      <td>False</td>\n",
              "      <td>263.120567</td>\n",
              "      <td>4</td>\n",
              "      <td>undervalued</td>\n",
              "    </tr>\n",
              "    <tr>\n",
              "      <th>595</th>\n",
              "      <td>1000000.0</td>\n",
              "      <td>85750</td>\n",
              "      <td>-110.867130</td>\n",
              "      <td>32.328752</td>\n",
              "      <td>0.80</td>\n",
              "      <td>11642.96</td>\n",
              "      <td>2002</td>\n",
              "      <td>4</td>\n",
              "      <td>5.0</td>\n",
              "      <td>5722.0</td>\n",
              "      <td>...</td>\n",
              "      <td>True</td>\n",
              "      <td>True</td>\n",
              "      <td>False</td>\n",
              "      <td>False</td>\n",
              "      <td>True</td>\n",
              "      <td>False</td>\n",
              "      <td>True</td>\n",
              "      <td>174.764069</td>\n",
              "      <td>4</td>\n",
              "      <td>undervalued</td>\n",
              "    </tr>\n",
              "    <tr>\n",
              "      <th>596</th>\n",
              "      <td>2150000.0</td>\n",
              "      <td>85739</td>\n",
              "      <td>-110.883660</td>\n",
              "      <td>32.509721</td>\n",
              "      <td>0.00</td>\n",
              "      <td>19060.81</td>\n",
              "      <td>2008</td>\n",
              "      <td>2</td>\n",
              "      <td>3.0</td>\n",
              "      <td>2729.0</td>\n",
              "      <td>...</td>\n",
              "      <td>True</td>\n",
              "      <td>False</td>\n",
              "      <td>False</td>\n",
              "      <td>False</td>\n",
              "      <td>False</td>\n",
              "      <td>False</td>\n",
              "      <td>True</td>\n",
              "      <td>787.834372</td>\n",
              "      <td>7</td>\n",
              "      <td>undervalued</td>\n",
              "    </tr>\n",
              "    <tr>\n",
              "      <th>597</th>\n",
              "      <td>921500.0</td>\n",
              "      <td>85718</td>\n",
              "      <td>-110.948344</td>\n",
              "      <td>32.343905</td>\n",
              "      <td>1.23</td>\n",
              "      <td>10722.61</td>\n",
              "      <td>2002</td>\n",
              "      <td>5</td>\n",
              "      <td>5.0</td>\n",
              "      <td>3861.0</td>\n",
              "      <td>...</td>\n",
              "      <td>True</td>\n",
              "      <td>True</td>\n",
              "      <td>False</td>\n",
              "      <td>False</td>\n",
              "      <td>True</td>\n",
              "      <td>False</td>\n",
              "      <td>False</td>\n",
              "      <td>238.668739</td>\n",
              "      <td>6</td>\n",
              "      <td>undervalued</td>\n",
              "    </tr>\n",
              "  </tbody>\n",
              "</table>\n",
              "<p>598 rows × 26 columns</p>\n",
              "</div>\n",
              "      <button class=\"colab-df-convert\" onclick=\"convertToInteractive('df-ded1119e-f6fc-4dd9-a6da-456c42cefc76')\"\n",
              "              title=\"Convert this dataframe to an interactive table.\"\n",
              "              style=\"display:none;\">\n",
              "        \n",
              "  <svg xmlns=\"http://www.w3.org/2000/svg\" height=\"24px\"viewBox=\"0 0 24 24\"\n",
              "       width=\"24px\">\n",
              "    <path d=\"M0 0h24v24H0V0z\" fill=\"none\"/>\n",
              "    <path d=\"M18.56 5.44l.94 2.06.94-2.06 2.06-.94-2.06-.94-.94-2.06-.94 2.06-2.06.94zm-11 1L8.5 8.5l.94-2.06 2.06-.94-2.06-.94L8.5 2.5l-.94 2.06-2.06.94zm10 10l.94 2.06.94-2.06 2.06-.94-2.06-.94-.94-2.06-.94 2.06-2.06.94z\"/><path d=\"M17.41 7.96l-1.37-1.37c-.4-.4-.92-.59-1.43-.59-.52 0-1.04.2-1.43.59L10.3 9.45l-7.72 7.72c-.78.78-.78 2.05 0 2.83L4 21.41c.39.39.9.59 1.41.59.51 0 1.02-.2 1.41-.59l7.78-7.78 2.81-2.81c.8-.78.8-2.07 0-2.86zM5.41 20L4 18.59l7.72-7.72 1.47 1.35L5.41 20z\"/>\n",
              "  </svg>\n",
              "      </button>\n",
              "      \n",
              "  <style>\n",
              "    .colab-df-container {\n",
              "      display:flex;\n",
              "      flex-wrap:wrap;\n",
              "      gap: 12px;\n",
              "    }\n",
              "\n",
              "    .colab-df-convert {\n",
              "      background-color: #E8F0FE;\n",
              "      border: none;\n",
              "      border-radius: 50%;\n",
              "      cursor: pointer;\n",
              "      display: none;\n",
              "      fill: #1967D2;\n",
              "      height: 32px;\n",
              "      padding: 0 0 0 0;\n",
              "      width: 32px;\n",
              "    }\n",
              "\n",
              "    .colab-df-convert:hover {\n",
              "      background-color: #E2EBFA;\n",
              "      box-shadow: 0px 1px 2px rgba(60, 64, 67, 0.3), 0px 1px 3px 1px rgba(60, 64, 67, 0.15);\n",
              "      fill: #174EA6;\n",
              "    }\n",
              "\n",
              "    [theme=dark] .colab-df-convert {\n",
              "      background-color: #3B4455;\n",
              "      fill: #D2E3FC;\n",
              "    }\n",
              "\n",
              "    [theme=dark] .colab-df-convert:hover {\n",
              "      background-color: #434B5C;\n",
              "      box-shadow: 0px 1px 3px 1px rgba(0, 0, 0, 0.15);\n",
              "      filter: drop-shadow(0px 1px 2px rgba(0, 0, 0, 0.3));\n",
              "      fill: #FFFFFF;\n",
              "    }\n",
              "  </style>\n",
              "\n",
              "      <script>\n",
              "        const buttonEl =\n",
              "          document.querySelector('#df-ded1119e-f6fc-4dd9-a6da-456c42cefc76 button.colab-df-convert');\n",
              "        buttonEl.style.display =\n",
              "          google.colab.kernel.accessAllowed ? 'block' : 'none';\n",
              "\n",
              "        async function convertToInteractive(key) {\n",
              "          const element = document.querySelector('#df-ded1119e-f6fc-4dd9-a6da-456c42cefc76');\n",
              "          const dataTable =\n",
              "            await google.colab.kernel.invokeFunction('convertToInteractive',\n",
              "                                                     [key], {});\n",
              "          if (!dataTable) return;\n",
              "\n",
              "          const docLinkHtml = 'Like what you see? Visit the ' +\n",
              "            '<a target=\"_blank\" href=https://colab.research.google.com/notebooks/data_table.ipynb>data table notebook</a>'\n",
              "            + ' to learn more about interactive tables.';\n",
              "          element.innerHTML = '';\n",
              "          dataTable['output_type'] = 'display_data';\n",
              "          await google.colab.output.renderOutput(dataTable, element);\n",
              "          const docLink = document.createElement('div');\n",
              "          docLink.innerHTML = docLinkHtml;\n",
              "          element.appendChild(docLink);\n",
              "        }\n",
              "      </script>\n",
              "    </div>\n",
              "  </div>\n",
              "  "
            ]
          },
          "metadata": {},
          "execution_count": 914
        }
      ]
    },
    {
      "cell_type": "code",
      "source": [
        "house_df"
      ],
      "metadata": {
        "id": "LAkOIp4v233n",
        "outputId": "5e99d137-0681-4924-d41f-4555d0971356",
        "colab": {
          "base_uri": "https://localhost:8080/",
          "height": 505
        }
      },
      "execution_count": 916,
      "outputs": [
        {
          "output_type": "execute_result",
          "data": {
            "text/plain": [
              "      sold_price  zipcode   longitude   latitude  lot_acres    taxes  \\\n",
              "0       543720.0    85755 -110.982174  32.433011       0.72  5713.00   \n",
              "1       671000.0    85749 -110.731555  32.294131       1.01  5008.06   \n",
              "2       635000.0    85749 -110.795109  32.255674       0.61  6535.00   \n",
              "3       865000.0    85718 -110.913394  32.300632       2.13  7105.17   \n",
              "4       651500.0    85718 -110.928289  32.285778       1.00  8385.87   \n",
              "...          ...      ...         ...        ...        ...      ...   \n",
              "4938    680000.0    85718 -110.917427  32.284453       1.05  7825.00   \n",
              "4939    720000.0    85742 -111.018190  32.351796       0.87  4738.00   \n",
              "4940    644500.0    85749 -110.729025  32.263274       0.90  4206.00   \n",
              "4941    889500.0    85750 -110.871894  32.312091       0.97  9033.67   \n",
              "4942    650000.0    85737 -110.967634  32.407459       0.41  6853.60   \n",
              "\n",
              "      year_built  bedrooms  bathrooms  sqrt_ft  ...  cleaning  countertop  \\\n",
              "0           2001         4        3.0   3084.0  ...      True       False   \n",
              "1           2003         4        3.0   3450.0  ...      True        True   \n",
              "2           1996         5        5.0   4364.0  ...      True       False   \n",
              "3           1990         4        4.0   4153.0  ...      True       False   \n",
              "4           2005         4        4.0   3666.0  ...     False       False   \n",
              "...          ...       ...        ...      ...  ...       ...         ...   \n",
              "4938        2001         4        4.0   3782.0  ...      True       False   \n",
              "4939        1972         4        3.0   4510.0  ...      True       False   \n",
              "4940        2001         4        3.0   3533.0  ...      True       False   \n",
              "4941        1999         5        4.0   3710.0  ...      True       False   \n",
              "4942        2006         4        3.0   3060.0  ...     False        True   \n",
              "\n",
              "      water   tile  carpet  stone  other floor  price_per_sqft  \\\n",
              "0     False  False    True  False        False      176.303502   \n",
              "1      True  False    True  False        False      194.492754   \n",
              "2     False  False    True  False        False      145.508708   \n",
              "3     False  False    True  False        False      208.283169   \n",
              "4     False  False    True  False        False      177.714130   \n",
              "...     ...    ...     ...    ...          ...             ...   \n",
              "4938  False  False    True  False        False      179.799048   \n",
              "4939  False  False    True  False         True      159.645233   \n",
              "4940  False  False   False  False        False      182.422870   \n",
              "4941  False  False    True  False        False      239.757412   \n",
              "4942  False  False    True  False        False      212.418301   \n",
              "\n",
              "      price_per_sqft_bins    valuation  \n",
              "0                       2  well-valued  \n",
              "1                       2  well-valued  \n",
              "2                       2  undervalued  \n",
              "3                       1  well-valued  \n",
              "4                       2  well-valued  \n",
              "...                   ...          ...  \n",
              "4938                    2  well-valued  \n",
              "4939                    2  well-valued  \n",
              "4940                    2  well-valued  \n",
              "4941                    1  well-valued  \n",
              "4942                    2  well-valued  \n",
              "\n",
              "[4943 rows x 26 columns]"
            ],
            "text/html": [
              "\n",
              "  <div id=\"df-a4e7044e-dbe6-4d3c-84e4-f1fe77398247\">\n",
              "    <div class=\"colab-df-container\">\n",
              "      <div>\n",
              "<style scoped>\n",
              "    .dataframe tbody tr th:only-of-type {\n",
              "        vertical-align: middle;\n",
              "    }\n",
              "\n",
              "    .dataframe tbody tr th {\n",
              "        vertical-align: top;\n",
              "    }\n",
              "\n",
              "    .dataframe thead th {\n",
              "        text-align: right;\n",
              "    }\n",
              "</style>\n",
              "<table border=\"1\" class=\"dataframe\">\n",
              "  <thead>\n",
              "    <tr style=\"text-align: right;\">\n",
              "      <th></th>\n",
              "      <th>sold_price</th>\n",
              "      <th>zipcode</th>\n",
              "      <th>longitude</th>\n",
              "      <th>latitude</th>\n",
              "      <th>lot_acres</th>\n",
              "      <th>taxes</th>\n",
              "      <th>year_built</th>\n",
              "      <th>bedrooms</th>\n",
              "      <th>bathrooms</th>\n",
              "      <th>sqrt_ft</th>\n",
              "      <th>...</th>\n",
              "      <th>cleaning</th>\n",
              "      <th>countertop</th>\n",
              "      <th>water</th>\n",
              "      <th>tile</th>\n",
              "      <th>carpet</th>\n",
              "      <th>stone</th>\n",
              "      <th>other floor</th>\n",
              "      <th>price_per_sqft</th>\n",
              "      <th>price_per_sqft_bins</th>\n",
              "      <th>valuation</th>\n",
              "    </tr>\n",
              "  </thead>\n",
              "  <tbody>\n",
              "    <tr>\n",
              "      <th>0</th>\n",
              "      <td>543720.0</td>\n",
              "      <td>85755</td>\n",
              "      <td>-110.982174</td>\n",
              "      <td>32.433011</td>\n",
              "      <td>0.72</td>\n",
              "      <td>5713.00</td>\n",
              "      <td>2001</td>\n",
              "      <td>4</td>\n",
              "      <td>3.0</td>\n",
              "      <td>3084.0</td>\n",
              "      <td>...</td>\n",
              "      <td>True</td>\n",
              "      <td>False</td>\n",
              "      <td>False</td>\n",
              "      <td>False</td>\n",
              "      <td>True</td>\n",
              "      <td>False</td>\n",
              "      <td>False</td>\n",
              "      <td>176.303502</td>\n",
              "      <td>2</td>\n",
              "      <td>well-valued</td>\n",
              "    </tr>\n",
              "    <tr>\n",
              "      <th>1</th>\n",
              "      <td>671000.0</td>\n",
              "      <td>85749</td>\n",
              "      <td>-110.731555</td>\n",
              "      <td>32.294131</td>\n",
              "      <td>1.01</td>\n",
              "      <td>5008.06</td>\n",
              "      <td>2003</td>\n",
              "      <td>4</td>\n",
              "      <td>3.0</td>\n",
              "      <td>3450.0</td>\n",
              "      <td>...</td>\n",
              "      <td>True</td>\n",
              "      <td>True</td>\n",
              "      <td>True</td>\n",
              "      <td>False</td>\n",
              "      <td>True</td>\n",
              "      <td>False</td>\n",
              "      <td>False</td>\n",
              "      <td>194.492754</td>\n",
              "      <td>2</td>\n",
              "      <td>well-valued</td>\n",
              "    </tr>\n",
              "    <tr>\n",
              "      <th>2</th>\n",
              "      <td>635000.0</td>\n",
              "      <td>85749</td>\n",
              "      <td>-110.795109</td>\n",
              "      <td>32.255674</td>\n",
              "      <td>0.61</td>\n",
              "      <td>6535.00</td>\n",
              "      <td>1996</td>\n",
              "      <td>5</td>\n",
              "      <td>5.0</td>\n",
              "      <td>4364.0</td>\n",
              "      <td>...</td>\n",
              "      <td>True</td>\n",
              "      <td>False</td>\n",
              "      <td>False</td>\n",
              "      <td>False</td>\n",
              "      <td>True</td>\n",
              "      <td>False</td>\n",
              "      <td>False</td>\n",
              "      <td>145.508708</td>\n",
              "      <td>2</td>\n",
              "      <td>undervalued</td>\n",
              "    </tr>\n",
              "    <tr>\n",
              "      <th>3</th>\n",
              "      <td>865000.0</td>\n",
              "      <td>85718</td>\n",
              "      <td>-110.913394</td>\n",
              "      <td>32.300632</td>\n",
              "      <td>2.13</td>\n",
              "      <td>7105.17</td>\n",
              "      <td>1990</td>\n",
              "      <td>4</td>\n",
              "      <td>4.0</td>\n",
              "      <td>4153.0</td>\n",
              "      <td>...</td>\n",
              "      <td>True</td>\n",
              "      <td>False</td>\n",
              "      <td>False</td>\n",
              "      <td>False</td>\n",
              "      <td>True</td>\n",
              "      <td>False</td>\n",
              "      <td>False</td>\n",
              "      <td>208.283169</td>\n",
              "      <td>1</td>\n",
              "      <td>well-valued</td>\n",
              "    </tr>\n",
              "    <tr>\n",
              "      <th>4</th>\n",
              "      <td>651500.0</td>\n",
              "      <td>85718</td>\n",
              "      <td>-110.928289</td>\n",
              "      <td>32.285778</td>\n",
              "      <td>1.00</td>\n",
              "      <td>8385.87</td>\n",
              "      <td>2005</td>\n",
              "      <td>4</td>\n",
              "      <td>4.0</td>\n",
              "      <td>3666.0</td>\n",
              "      <td>...</td>\n",
              "      <td>False</td>\n",
              "      <td>False</td>\n",
              "      <td>False</td>\n",
              "      <td>False</td>\n",
              "      <td>True</td>\n",
              "      <td>False</td>\n",
              "      <td>False</td>\n",
              "      <td>177.714130</td>\n",
              "      <td>2</td>\n",
              "      <td>well-valued</td>\n",
              "    </tr>\n",
              "    <tr>\n",
              "      <th>...</th>\n",
              "      <td>...</td>\n",
              "      <td>...</td>\n",
              "      <td>...</td>\n",
              "      <td>...</td>\n",
              "      <td>...</td>\n",
              "      <td>...</td>\n",
              "      <td>...</td>\n",
              "      <td>...</td>\n",
              "      <td>...</td>\n",
              "      <td>...</td>\n",
              "      <td>...</td>\n",
              "      <td>...</td>\n",
              "      <td>...</td>\n",
              "      <td>...</td>\n",
              "      <td>...</td>\n",
              "      <td>...</td>\n",
              "      <td>...</td>\n",
              "      <td>...</td>\n",
              "      <td>...</td>\n",
              "      <td>...</td>\n",
              "      <td>...</td>\n",
              "    </tr>\n",
              "    <tr>\n",
              "      <th>4938</th>\n",
              "      <td>680000.0</td>\n",
              "      <td>85718</td>\n",
              "      <td>-110.917427</td>\n",
              "      <td>32.284453</td>\n",
              "      <td>1.05</td>\n",
              "      <td>7825.00</td>\n",
              "      <td>2001</td>\n",
              "      <td>4</td>\n",
              "      <td>4.0</td>\n",
              "      <td>3782.0</td>\n",
              "      <td>...</td>\n",
              "      <td>True</td>\n",
              "      <td>False</td>\n",
              "      <td>False</td>\n",
              "      <td>False</td>\n",
              "      <td>True</td>\n",
              "      <td>False</td>\n",
              "      <td>False</td>\n",
              "      <td>179.799048</td>\n",
              "      <td>2</td>\n",
              "      <td>well-valued</td>\n",
              "    </tr>\n",
              "    <tr>\n",
              "      <th>4939</th>\n",
              "      <td>720000.0</td>\n",
              "      <td>85742</td>\n",
              "      <td>-111.018190</td>\n",
              "      <td>32.351796</td>\n",
              "      <td>0.87</td>\n",
              "      <td>4738.00</td>\n",
              "      <td>1972</td>\n",
              "      <td>4</td>\n",
              "      <td>3.0</td>\n",
              "      <td>4510.0</td>\n",
              "      <td>...</td>\n",
              "      <td>True</td>\n",
              "      <td>False</td>\n",
              "      <td>False</td>\n",
              "      <td>False</td>\n",
              "      <td>True</td>\n",
              "      <td>False</td>\n",
              "      <td>True</td>\n",
              "      <td>159.645233</td>\n",
              "      <td>2</td>\n",
              "      <td>well-valued</td>\n",
              "    </tr>\n",
              "    <tr>\n",
              "      <th>4940</th>\n",
              "      <td>644500.0</td>\n",
              "      <td>85749</td>\n",
              "      <td>-110.729025</td>\n",
              "      <td>32.263274</td>\n",
              "      <td>0.90</td>\n",
              "      <td>4206.00</td>\n",
              "      <td>2001</td>\n",
              "      <td>4</td>\n",
              "      <td>3.0</td>\n",
              "      <td>3533.0</td>\n",
              "      <td>...</td>\n",
              "      <td>True</td>\n",
              "      <td>False</td>\n",
              "      <td>False</td>\n",
              "      <td>False</td>\n",
              "      <td>False</td>\n",
              "      <td>False</td>\n",
              "      <td>False</td>\n",
              "      <td>182.422870</td>\n",
              "      <td>2</td>\n",
              "      <td>well-valued</td>\n",
              "    </tr>\n",
              "    <tr>\n",
              "      <th>4941</th>\n",
              "      <td>889500.0</td>\n",
              "      <td>85750</td>\n",
              "      <td>-110.871894</td>\n",
              "      <td>32.312091</td>\n",
              "      <td>0.97</td>\n",
              "      <td>9033.67</td>\n",
              "      <td>1999</td>\n",
              "      <td>5</td>\n",
              "      <td>4.0</td>\n",
              "      <td>3710.0</td>\n",
              "      <td>...</td>\n",
              "      <td>True</td>\n",
              "      <td>False</td>\n",
              "      <td>False</td>\n",
              "      <td>False</td>\n",
              "      <td>True</td>\n",
              "      <td>False</td>\n",
              "      <td>False</td>\n",
              "      <td>239.757412</td>\n",
              "      <td>1</td>\n",
              "      <td>well-valued</td>\n",
              "    </tr>\n",
              "    <tr>\n",
              "      <th>4942</th>\n",
              "      <td>650000.0</td>\n",
              "      <td>85737</td>\n",
              "      <td>-110.967634</td>\n",
              "      <td>32.407459</td>\n",
              "      <td>0.41</td>\n",
              "      <td>6853.60</td>\n",
              "      <td>2006</td>\n",
              "      <td>4</td>\n",
              "      <td>3.0</td>\n",
              "      <td>3060.0</td>\n",
              "      <td>...</td>\n",
              "      <td>False</td>\n",
              "      <td>True</td>\n",
              "      <td>False</td>\n",
              "      <td>False</td>\n",
              "      <td>True</td>\n",
              "      <td>False</td>\n",
              "      <td>False</td>\n",
              "      <td>212.418301</td>\n",
              "      <td>2</td>\n",
              "      <td>well-valued</td>\n",
              "    </tr>\n",
              "  </tbody>\n",
              "</table>\n",
              "<p>4943 rows × 26 columns</p>\n",
              "</div>\n",
              "      <button class=\"colab-df-convert\" onclick=\"convertToInteractive('df-a4e7044e-dbe6-4d3c-84e4-f1fe77398247')\"\n",
              "              title=\"Convert this dataframe to an interactive table.\"\n",
              "              style=\"display:none;\">\n",
              "        \n",
              "  <svg xmlns=\"http://www.w3.org/2000/svg\" height=\"24px\"viewBox=\"0 0 24 24\"\n",
              "       width=\"24px\">\n",
              "    <path d=\"M0 0h24v24H0V0z\" fill=\"none\"/>\n",
              "    <path d=\"M18.56 5.44l.94 2.06.94-2.06 2.06-.94-2.06-.94-.94-2.06-.94 2.06-2.06.94zm-11 1L8.5 8.5l.94-2.06 2.06-.94-2.06-.94L8.5 2.5l-.94 2.06-2.06.94zm10 10l.94 2.06.94-2.06 2.06-.94-2.06-.94-.94-2.06-.94 2.06-2.06.94z\"/><path d=\"M17.41 7.96l-1.37-1.37c-.4-.4-.92-.59-1.43-.59-.52 0-1.04.2-1.43.59L10.3 9.45l-7.72 7.72c-.78.78-.78 2.05 0 2.83L4 21.41c.39.39.9.59 1.41.59.51 0 1.02-.2 1.41-.59l7.78-7.78 2.81-2.81c.8-.78.8-2.07 0-2.86zM5.41 20L4 18.59l7.72-7.72 1.47 1.35L5.41 20z\"/>\n",
              "  </svg>\n",
              "      </button>\n",
              "      \n",
              "  <style>\n",
              "    .colab-df-container {\n",
              "      display:flex;\n",
              "      flex-wrap:wrap;\n",
              "      gap: 12px;\n",
              "    }\n",
              "\n",
              "    .colab-df-convert {\n",
              "      background-color: #E8F0FE;\n",
              "      border: none;\n",
              "      border-radius: 50%;\n",
              "      cursor: pointer;\n",
              "      display: none;\n",
              "      fill: #1967D2;\n",
              "      height: 32px;\n",
              "      padding: 0 0 0 0;\n",
              "      width: 32px;\n",
              "    }\n",
              "\n",
              "    .colab-df-convert:hover {\n",
              "      background-color: #E2EBFA;\n",
              "      box-shadow: 0px 1px 2px rgba(60, 64, 67, 0.3), 0px 1px 3px 1px rgba(60, 64, 67, 0.15);\n",
              "      fill: #174EA6;\n",
              "    }\n",
              "\n",
              "    [theme=dark] .colab-df-convert {\n",
              "      background-color: #3B4455;\n",
              "      fill: #D2E3FC;\n",
              "    }\n",
              "\n",
              "    [theme=dark] .colab-df-convert:hover {\n",
              "      background-color: #434B5C;\n",
              "      box-shadow: 0px 1px 3px 1px rgba(0, 0, 0, 0.15);\n",
              "      filter: drop-shadow(0px 1px 2px rgba(0, 0, 0, 0.3));\n",
              "      fill: #FFFFFF;\n",
              "    }\n",
              "  </style>\n",
              "\n",
              "      <script>\n",
              "        const buttonEl =\n",
              "          document.querySelector('#df-a4e7044e-dbe6-4d3c-84e4-f1fe77398247 button.colab-df-convert');\n",
              "        buttonEl.style.display =\n",
              "          google.colab.kernel.accessAllowed ? 'block' : 'none';\n",
              "\n",
              "        async function convertToInteractive(key) {\n",
              "          const element = document.querySelector('#df-a4e7044e-dbe6-4d3c-84e4-f1fe77398247');\n",
              "          const dataTable =\n",
              "            await google.colab.kernel.invokeFunction('convertToInteractive',\n",
              "                                                     [key], {});\n",
              "          if (!dataTable) return;\n",
              "\n",
              "          const docLinkHtml = 'Like what you see? Visit the ' +\n",
              "            '<a target=\"_blank\" href=https://colab.research.google.com/notebooks/data_table.ipynb>data table notebook</a>'\n",
              "            + ' to learn more about interactive tables.';\n",
              "          element.innerHTML = '';\n",
              "          dataTable['output_type'] = 'display_data';\n",
              "          await google.colab.output.renderOutput(dataTable, element);\n",
              "          const docLink = document.createElement('div');\n",
              "          docLink.innerHTML = docLinkHtml;\n",
              "          element.appendChild(docLink);\n",
              "        }\n",
              "      </script>\n",
              "    </div>\n",
              "  </div>\n",
              "  "
            ]
          },
          "metadata": {},
          "execution_count": 916
        }
      ]
    },
    {
      "cell_type": "code",
      "source": [
        "from geopy import Nominatim\n",
        "\n",
        "# Initialize Nominatim geolocator\n",
        "geolocator = Nominatim(user_agent=\"mAIstros\")\n",
        "\n",
        "# Get latitude and longitude of address\n",
        "location = geolocator.geocode(\"10 Downing Street\")"
      ],
      "metadata": {
        "id": "lPKFjAir18LS"
      },
      "execution_count": 920,
      "outputs": []
    },
    {
      "cell_type": "code",
      "source": [
        "a, b, c = location.point"
      ],
      "metadata": {
        "id": "StVhF7TI2ojK"
      },
      "execution_count": 921,
      "outputs": []
    },
    {
      "cell_type": "code",
      "source": [
        "lat = a"
      ],
      "metadata": {
        "id": "fe6nU7aa4c4-"
      },
      "execution_count": 928,
      "outputs": []
    },
    {
      "cell_type": "code",
      "source": [
        "lon = b"
      ],
      "metadata": {
        "id": "ybtktN4J4eIl"
      },
      "execution_count": 929,
      "outputs": []
    },
    {
      "cell_type": "code",
      "source": [
        "is_undervalued = any((house_df['latitude'] == lat) & (house_df['longitude'] == lon))\n",
        "\n",
        "if is_undervalued:\n",
        "    print(f\"The address '{location}' is in the list of undervalued houses.\")\n",
        "else:\n",
        "    print(f\"The address '{location}' is not in the list of undervalued houses.\")"
      ],
      "metadata": {
        "id": "F97qDsqz4eqa",
        "outputId": "7a5692ab-c192-495f-9fb4-c9bcbff429bf",
        "colab": {
          "base_uri": "https://localhost:8080/"
        }
      },
      "execution_count": 930,
      "outputs": [
        {
          "output_type": "stream",
          "name": "stdout",
          "text": [
            "The address '10 Downing Street, 10, Downing Street, Westminster, Covent Garden, London, Greater London, England, SW1A 2AA, United Kingdom' is not in the list of undervalued houses.\n"
          ]
        }
      ]
    },
    {
      "cell_type": "code",
      "source": [],
      "metadata": {
        "id": "2E0C26ip4fjt"
      },
      "execution_count": null,
      "outputs": []
    }
  ]
}